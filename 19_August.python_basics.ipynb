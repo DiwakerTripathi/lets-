{
 "cells": [
  {
   "cell_type": "code",
   "execution_count": 20,
   "id": "ccff1e48-e3c3-44ba-8f10-54c20a12f515",
   "metadata": {},
   "outputs": [
    {
     "name": "stdout",
     "output_type": "stream",
     "text": [
      "swap value of x : 7 and swap value of y : 5\n"
     ]
    }
   ],
   "source": [
    "#swap two variables\n",
    "x = 5\n",
    "y = 7\n",
    "x,y = y,x\n",
    "print(f\"swap value of x : {x} and swap value of y : {y}\")"
   ]
  },
  {
   "cell_type": "code",
   "execution_count": 18,
   "id": "ceb0220d-e7cf-44e1-a7a5-4a011b124fc4",
   "metadata": {},
   "outputs": [
    {
     "name": "stdin",
     "output_type": "stream",
     "text": [
      "length of rectangle 2.5\n",
      "width of rectangle 40\n"
     ]
    },
    {
     "name": "stdout",
     "output_type": "stream",
     "text": [
      "area of rectangle is: 100.0\n"
     ]
    }
   ],
   "source": [
    "#area of rectangle\n",
    "length = float(input(\"length of rectangle\"))\n",
    "width =float(input(\"width of rectangle\"))\n",
    "area = length * width\n",
    "print(\"area of rectangle is:\", area) "
   ]
  },
  {
   "cell_type": "code",
   "execution_count": 23,
   "id": "ffebd05e-9d36-4fed-8c40-70308792695b",
   "metadata": {},
   "outputs": [
    {
     "name": "stdin",
     "output_type": "stream",
     "text": [
      "Enter the temperature in celcius 100\n"
     ]
    },
    {
     "name": "stdout",
     "output_type": "stream",
     "text": [
      "Temperature in fahrenheit is : 212.0\n"
     ]
    }
   ],
   "source": [
    "#celcius to fahrenheit\n",
    "celcius = float(input(\"Enter the temperature in celcius\"))\n",
    "fahrenheit = (9/5)* celcius + 32\n",
    "print(\"Temperature in fahrenheit is :\",fahrenheit)"
   ]
  },
  {
   "cell_type": "code",
   "execution_count": 29,
   "id": "5e1b6afc-6757-498c-adaa-8f98d68a7ceb",
   "metadata": {},
   "outputs": [
    {
     "name": "stdin",
     "output_type": "stream",
     "text": [
      "enter the sentence: Geography\n"
     ]
    },
    {
     "name": "stdout",
     "output_type": "stream",
     "text": [
      "length of the string is: 9\n"
     ]
    }
   ],
   "source": [
    "#length of string\n",
    "string = input(\"enter the sentence:\")\n",
    "length = len(string)\n",
    "print(\"length of the string is:\",length)\n"
   ]
  },
  {
   "cell_type": "code",
   "execution_count": 34,
   "id": "48be31ef-b2d3-4718-bc2e-b173876819d4",
   "metadata": {},
   "outputs": [
    {
     "name": "stdin",
     "output_type": "stream",
     "text": [
      "enter the sentence: Hardwork Is Key To Success\n"
     ]
    },
    {
     "name": "stdout",
     "output_type": "stream",
     "text": [
      "no. of vowels 7\n"
     ]
    }
   ],
   "source": [
    "# no of vowels\n",
    "sentence =input(\"enter the sentence:\")\n",
    "vowel_count = 0\n",
    "for char in sentence:\n",
    "    char = char.lower()\n",
    "    if char in \"aeiou\":\n",
    "        vowel_count+= 1\n",
    "        \n",
    "print(\"no. of vowels\", vowel_count)\n",
    "    "
   ]
  },
  {
   "cell_type": "code",
   "execution_count": 36,
   "id": "7c63333a-18e5-47c9-85f9-31dda17fe4cb",
   "metadata": {},
   "outputs": [
    {
     "name": "stdin",
     "output_type": "stream",
     "text": [
      "enter the sentence GOODMORNING\n"
     ]
    },
    {
     "name": "stdout",
     "output_type": "stream",
     "text": [
      "reversed string is: GNINROMDOOG\n"
     ]
    }
   ],
   "source": [
    "#reverse order of the string\n",
    "string = input(\"enter the sentence\")\n",
    "reversed_string = string[::-1]\n",
    "print(\"reversed string is:\",reversed_string)"
   ]
  },
  {
   "cell_type": "code",
   "execution_count": 39,
   "id": "779cdc0b-7fc0-4c23-b7d0-965efebafdd4",
   "metadata": {},
   "outputs": [
    {
     "name": "stdin",
     "output_type": "stream",
     "text": [
      "Enter the sentence: yummy\n"
     ]
    },
    {
     "name": "stdout",
     "output_type": "stream",
     "text": [
      "input string is not palindrome\n"
     ]
    }
   ],
   "source": [
    "#palindrome\n",
    "input_string = input(\"Enter the sentence:\")\n",
    "convert_string =input_string.lower() \n",
    "reversed_string =convert_string[::-1]\n",
    "if convert_string == reversed_string:\n",
    "    print(\"input string is palindrome\")\n",
    "else:\n",
    "    print(\"input string is not palindrome\")\n",
    "    "
   ]
  },
  {
   "cell_type": "code",
   "execution_count": 41,
   "id": "e1266651-5d3a-438a-8e8c-f381ab2fc2e6",
   "metadata": {},
   "outputs": [
    {
     "name": "stdin",
     "output_type": "stream",
     "text": [
      "enter the string Give me some sunshine\n"
     ]
    },
    {
     "name": "stdout",
     "output_type": "stream",
     "text": [
      "string without spaces is Givemesomesunshine\n"
     ]
    }
   ],
   "source": [
    "#remove the spaces from the string\n",
    "string = input(\"enter the string\")\n",
    "converted_string = string.replace(\" \",\"\")\n",
    "print(\"string without spaces is\",converted_string)\n"
   ]
  },
  {
   "cell_type": "code",
   "execution_count": null,
   "id": "63ba60c5-3709-494d-a305-1b3ef97e4519",
   "metadata": {},
   "outputs": [],
   "source": []
  }
 ],
 "metadata": {
  "kernelspec": {
   "display_name": "Python 3 (ipykernel)",
   "language": "python",
   "name": "python3"
  },
  "language_info": {
   "codemirror_mode": {
    "name": "ipython",
    "version": 3
   },
   "file_extension": ".py",
   "mimetype": "text/x-python",
   "name": "python",
   "nbconvert_exporter": "python",
   "pygments_lexer": "ipython3",
   "version": "3.10.8"
  }
 },
 "nbformat": 4,
 "nbformat_minor": 5
}
