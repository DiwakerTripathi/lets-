{
 "cells": [
  {
   "cell_type": "code",
   "execution_count": 25,
   "id": "645159af-1064-4ee1-b359-5f98ad21c340",
   "metadata": {},
   "outputs": [],
   "source": [
    "# 1.Bank account\n",
    "class Bank_account:\n",
    "    \n",
    "    def __init__(self,acc_no,acc_holder_name,avail_balance):\n",
    "        self.acc_no = acc_no\n",
    "        self.acc_holder_name = acc_holder_name\n",
    "        self.balance = int(avail_balance)\n",
    "    \n",
    "    def login_page(self,password):\n",
    "        if password == \"Alpha@123\":\n",
    "            print(\"Login successful\")\n",
    "        else:\n",
    "            return \"Incorrect password\"\n",
    "        \n",
    "    def deposit(self):\n",
    "        amount = int(input(\"Enter the amount to be deposited\"))\n",
    "        self.balance +=amount\n",
    "        print(\"\\n Amount deposited:\",amount)\n",
    "        \n",
    "    def withdrawl(self):\n",
    "        amount = int(input(\"Enter the amount to withdraw\"))\n",
    "        if self.balance >= amount:\n",
    "            self.balance-= amount\n",
    "            print(\"\\nAmount withdrawn:\",amount)\n",
    "            \n",
    "        else:\n",
    "            print(\"\\nInsufficient balance\")\n",
    "            \n",
    "    def display_balance(self):\n",
    "        print(\"\\nNet available balance:\", self.balance)"
   ]
  },
  {
   "cell_type": "code",
   "execution_count": 26,
   "id": "245056ad-5234-4816-8dca-f3c7c1b25c7c",
   "metadata": {},
   "outputs": [],
   "source": [
    "diwa = Bank_account(\"12345678\",\"Diwaker\",\"25000\")"
   ]
  },
  {
   "cell_type": "code",
   "execution_count": 27,
   "id": "c73426f9-9231-4e47-9d32-c44eaebd670d",
   "metadata": {},
   "outputs": [
    {
     "name": "stdout",
     "output_type": "stream",
     "text": [
      "Login successful\n"
     ]
    }
   ],
   "source": [
    "diwa.login_page(\"Alpha@123\")"
   ]
  },
  {
   "cell_type": "code",
   "execution_count": 28,
   "id": "44bbd395-b7a6-46b9-89a7-bb20781fa46f",
   "metadata": {},
   "outputs": [
    {
     "name": "stdin",
     "output_type": "stream",
     "text": [
      "Enter the amount to be deposited 16500\n"
     ]
    },
    {
     "name": "stdout",
     "output_type": "stream",
     "text": [
      "\n",
      " Amount deposited: 16500\n"
     ]
    },
    {
     "name": "stdin",
     "output_type": "stream",
     "text": [
      "Enter the amount to withdraw 5500\n"
     ]
    },
    {
     "name": "stdout",
     "output_type": "stream",
     "text": [
      "\n",
      "Amount withdrawn: 5500\n",
      "\n",
      "Net available balance: 36000\n"
     ]
    }
   ],
   "source": [
    "diwa.deposit()\n",
    "diwa.withdrawl()\n",
    "diwa.display_balance()"
   ]
  },
  {
   "cell_type": "code",
   "execution_count": 25,
   "id": "f78cc25a-0bec-4185-81d6-46b77a84a6d3",
   "metadata": {},
   "outputs": [],
   "source": [
    "#2. Employee details and salary \n",
    "\n",
    "class Employee:\n",
    "    def __init__(self,emp_id,emp_name,basic_pay):\n",
    "        self.emp_id = emp_id\n",
    "        self.emp_name = emp_name\n",
    "        self.salary = basic_pay\n",
    "        \n",
    "        \n",
    "    def overtime_bonus(self):\n",
    "        hours_worked=float(input(\"Enter employee working hours\"))\n",
    "        if hours_worked > 50:\n",
    "            overtime = hours_worked - 50\n",
    "            self.bonus = overtime*(self.salary/50)\n",
    "            print(\"Employee bonus:\",self.bonus)\n",
    "            \n",
    "            \n",
    "    def emp_details(self):\n",
    "        print(\"Emp_id:\",self.emp_id)\n",
    "        print(\"Emp_name:\",self.emp_name)\n",
    "        print(\"Employee salary:\",self.salary + self.bonus)"
   ]
  },
  {
   "cell_type": "code",
   "execution_count": 26,
   "id": "f0b7096e-cfc8-480f-afbd-a0790405b6f1",
   "metadata": {},
   "outputs": [],
   "source": [
    "diwa = Employee(\"1234\",\"Diwaker\",85000)"
   ]
  },
  {
   "cell_type": "code",
   "execution_count": 27,
   "id": "e7be405d-47e3-455e-b088-8cdba0bad471",
   "metadata": {},
   "outputs": [
    {
     "name": "stdin",
     "output_type": "stream",
     "text": [
      "Enter employee working hours 70\n"
     ]
    },
    {
     "name": "stdout",
     "output_type": "stream",
     "text": [
      "Employee bonus: 34000.0\n"
     ]
    }
   ],
   "source": [
    "diwa.overtime_bonus()"
   ]
  },
  {
   "cell_type": "code",
   "execution_count": 28,
   "id": "f6981243-a6b1-406d-a228-cc8b7c6f4a33",
   "metadata": {},
   "outputs": [
    {
     "name": "stdout",
     "output_type": "stream",
     "text": [
      "Emp_id: 1234\n",
      "Emp_name: Diwaker\n",
      "Employee salary: 119000.0\n"
     ]
    }
   ],
   "source": [
    "diwa.emp_details()"
   ]
  },
  {
   "cell_type": "code",
   "execution_count": 68,
   "id": "f0a69a2f-0ede-4e42-b8a3-7b08ac45409a",
   "metadata": {},
   "outputs": [],
   "source": [
    "#3. Vehicle rental sysytem\n",
    "\n",
    "class Vehicle_rent_system:\n",
    "    \n",
    "    def __init__(self,veh_in_stock):\n",
    "        self.veh_in_stock = veh_in_stock\n",
    "        self.rent_vehicle = input(\"Enter the vehicle to rent:\")\n",
    "        \n",
    "    def rent_amount(self,renting_days,price_per_day):\n",
    "        if self.rent_vehicle in self.veh_in_stock :       # problem in appending the vehicle\n",
    "            self.veh_in_stock.remove(self.rent_vehicle)\n",
    "            amount = renting_days * price_per_day\n",
    "            print(\"Rent amount:\",amount)\n",
    "        else:\n",
    "            print(\"Vehicle not avaialable in stock\")\n",
    "            \n",
    "    def return_vehicle(self):\n",
    "        returned_vehicle = input(\"Enter the model name to return:\")\n",
    "        self.veh_in_stock.append(returned_vehicle)\n",
    "        print(\"Available Vehicles:\",self.veh_in_stock)"
   ]
  },
  {
   "cell_type": "code",
   "execution_count": 69,
   "id": "295132a3-12fa-4f92-a825-65cabc57f09d",
   "metadata": {},
   "outputs": [
    {
     "name": "stdin",
     "output_type": "stream",
     "text": [
      "Enter the vehicle to rent: swift\n"
     ]
    },
    {
     "name": "stdout",
     "output_type": "stream",
     "text": [
      "Rent amount: 7500\n"
     ]
    },
    {
     "name": "stdin",
     "output_type": "stream",
     "text": [
      "Enter the model name to return: scorpio\n"
     ]
    },
    {
     "name": "stdout",
     "output_type": "stream",
     "text": [
      "Available Vehicles: ['innova', 'nexon', 'fortuner', 'scorpio']\n"
     ]
    }
   ],
   "source": [
    "diwa =Vehicle_rent_system(['swift','innova','nexon','fortuner'])\n",
    "diwa.rent_amount(5,1500)\n",
    "diwa.return_vehicle()"
   ]
  },
  {
   "cell_type": "code",
   "execution_count": 66,
   "id": "612c008c-88fd-4cf6-9465-4a10db50b7e4",
   "metadata": {},
   "outputs": [],
   "source": [
    "#4. Creation of classes of library\n",
    "\n",
    "class library:\n",
    "    def __init__(self,list_of_books):\n",
    "        self.list_of_books = list_of_books\n",
    "        \n",
    "    def borrow_book(self,requested_book):\n",
    "        if requested_book in self.list_of_books:\n",
    "            self.list_of_books.remove(requested_book)\n",
    "            print(\"Book is available to lend\")\n",
    "        else:\n",
    "            print(\"unavailable\")\n",
    "            \n",
    "    def add_book(self,book_added):\n",
    "        self.list_of_books.append(book_added)\n",
    "        \n",
    "    def available_book(self):\n",
    "        print(\"Available books:\",self.list_of_books)\n",
    "        "
   ]
  },
  {
   "cell_type": "code",
   "execution_count": 67,
   "id": "55326f5d-b418-4137-b9df-6b2382368d59",
   "metadata": {},
   "outputs": [
    {
     "name": "stdout",
     "output_type": "stream",
     "text": [
      "Book is available to lend\n",
      "Available books: ['fictiton', 'mathematics', 'autobiography', 'encyclopedia']\n"
     ]
    }
   ],
   "source": [
    "diwa = library(['science','fictiton','mathematics','autobiography'])\n",
    "diwa.borrow_book('science')\n",
    "diwa.add_book('encyclopedia')\n",
    "diwa.available_book()"
   ]
  },
  {
   "cell_type": "code",
   "execution_count": 4,
   "id": "3ba3df2e-c35e-4ffc-bc88-aef77f319f69",
   "metadata": {},
   "outputs": [],
   "source": [
    "#5.Inventory sysytem\n",
    "\n",
    "class Inventory:\n",
    "    def __init__(self,list_of_products):\n",
    "        self.list_of_products = list_of_products\n",
    "        \n",
    "    def purchase_product(self,requested_product):\n",
    "        if requested_product in self.list_of_products:\n",
    "            self.list_of_products.remove(requested_product)\n",
    "            print(\"Product is available to purchase\")\n",
    "        else:\n",
    "            print(\"unavailable\")\n",
    "            \n",
    "    def add_products(self):\n",
    "        product_added = input(\"Enter the product to add:\")\n",
    "        self.list_of_products.append(product_added)\n",
    "        \n",
    "    def updated_products(self):\n",
    "        print(\"Updated inventory:\",self.list_of_products)"
   ]
  },
  {
   "cell_type": "code",
   "execution_count": 5,
   "id": "3af1d27f-5dd9-4ded-868b-bf732b4243f5",
   "metadata": {},
   "outputs": [
    {
     "name": "stdout",
     "output_type": "stream",
     "text": [
      "Product is available to purchase\n"
     ]
    },
    {
     "name": "stdin",
     "output_type": "stream",
     "text": [
      "Enter the product to add: chocolates\n"
     ]
    },
    {
     "name": "stdout",
     "output_type": "stream",
     "text": [
      "Updated inventory: ['vegetables', 'soft drinks', 'pulses', 'grains', 'fruits', 'chocolates']\n"
     ]
    }
   ],
   "source": [
    "diwa = Inventory(['vegetables','snacks','soft drinks','pulses','grains','fruits'])\n",
    "diwa.purchase_product('snacks')\n",
    "diwa.add_products()\n",
    "diwa.updated_products()"
   ]
  },
  {
   "cell_type": "code",
   "execution_count": 100,
   "id": "80dbadbb-74fc-46cd-b9b0-a22c027c188b",
   "metadata": {},
   "outputs": [],
   "source": [
    "#6 calculate perimeter and area of the shape given\n",
    "\n",
    "class shape:\n",
    "    def __init__(self,length,width,height):\n",
    "        self.length = float(length) \n",
    "        self.width = float(width) \n",
    "        self.height = float(height)\n",
    "        \n",
    "    def area(self):\n",
    "        print(\"Area_of_rectangle\",(self.length) * (self.width))\n",
    "        print(\"Area_of_square\", (self.length)**2)\n",
    "        print(\"Area of parallelogram\",(self.width*self.height))\n",
    "        \n",
    "        \n",
    "    def perimeter(self):\n",
    "        print(\"Perimeter of Rectangle\",2*(self.length+self.width))\n",
    "        print(\"Perimeter of Square\",(4*self.length))\n",
    "        print(\"Perimeter of parallelogram\",2*(self.length+self.width))"
   ]
  },
  {
   "cell_type": "code",
   "execution_count": 102,
   "id": "8595b923-9ea1-4122-a857-785368881a79",
   "metadata": {},
   "outputs": [
    {
     "name": "stdout",
     "output_type": "stream",
     "text": [
      "Area_of_rectangle 22.5\n",
      "Area_of_square 20.25\n",
      "Area of parallelogram 30.0\n",
      "Perimeter of Rectangle 19.0\n",
      "Perimeter of Square 18.0\n",
      "Perimeter of parallelogram 19.0\n"
     ]
    }
   ],
   "source": [
    "diwa = shape(4.5,5,6)\n",
    "diwa.area()\n",
    "diwa.perimeter()"
   ]
  },
  {
   "cell_type": "code",
   "execution_count": 2,
   "id": "83c014c1-bea7-420d-81c5-a4a42f0e4dbf",
   "metadata": {},
   "outputs": [],
   "source": [
    "#7 Student grading system\n",
    "\n",
    "class student:\n",
    "    \n",
    "    def __init__(self,student_id,student_name):\n",
    "        self.student_id = student_id\n",
    "        self.student_name = student_name\n",
    "        \n",
    "    def stud_grades(self,overall_marks):\n",
    "        if overall_marks >= 90:\n",
    "            print(\"Excellent performance; Grade : A\")\n",
    "        elif overall_marks >= 80 or overall_marks < 90:\n",
    "            print(\"Very Good performance; Grade : B\")\n",
    "        elif overall_marks >= 70 or overall_marks < 80:\n",
    "            print(\"Good performance; Grade : C\")\n",
    "        elif overall_marks >= 60 or overall_marks < 70:\n",
    "            print(\"Satisfactory performance; Grade : D\")\n",
    "        else:\n",
    "            print(\"You need improvement\")\n",
    "            \n",
    "    def student_details(self):\n",
    "        print(\"Student Id:\",self.student_id)\n",
    "        print(\"Student Name:\",self.student_name)"
   ]
  },
  {
   "cell_type": "code",
   "execution_count": 6,
   "id": "5bc04e43-4e11-4a49-ba4e-37b8225c4852",
   "metadata": {},
   "outputs": [
    {
     "name": "stdout",
     "output_type": "stream",
     "text": [
      "Student Id: 1234\n",
      "Student Name: Diwaker\n",
      "Excellent performance; Grade : A\n"
     ]
    }
   ],
   "source": [
    "diwa = student('1234','Diwaker')\n",
    "diwa.student_details()\n",
    "diwa.stud_grades(92)"
   ]
  },
  {
   "cell_type": "code",
   "execution_count": 27,
   "id": "4d19a081-94b0-4a20-9201-96c59ebe1d3a",
   "metadata": {},
   "outputs": [],
   "source": [
    "#8 Email management sysytem\n",
    "\n",
    "class Email:\n",
    "    \n",
    "    def __init__(self,sender_id,password):\n",
    "        self.sender_id = sender_id\n",
    "        self.password = password\n",
    "\n",
    "    def login(self):     \n",
    "        email_id = input(\"Enter you Email id:\")\n",
    "        entered_password = input(\"Enter your password:\")\n",
    "        if entered_password == self.password and email_id == self.sender_id:\n",
    "            print(\"login successful\")\n",
    "        else:\n",
    "            print(\"Invalid credentials\")\n",
    "            \n",
    "    def recipient_details(self,recipient_id,subject):\n",
    "        self.recipient_id = recipient_id\n",
    "        self.subject = subject\n",
    "    \n",
    "    def Email_details(self): \n",
    "        print(\"Sender mail:\",self.sender_id)\n",
    "        print(\"Recipient:\",self.recipient_id)\n",
    "        print(\"Subject:\",self.subject)"
   ]
  },
  {
   "cell_type": "code",
   "execution_count": 28,
   "id": "160b050d-f434-4de1-8643-c16e9a95a5f4",
   "metadata": {},
   "outputs": [
    {
     "name": "stdin",
     "output_type": "stream",
     "text": [
      "Enter you Email id: dmt@gmail.com\n",
      "Enter your password: dmt123\n"
     ]
    },
    {
     "name": "stdout",
     "output_type": "stream",
     "text": [
      "login successful\n",
      "Sender mail: dmt@gmail.com\n",
      "Recipient: sid@gmail.com\n",
      "Subject: Data Science Intern\n"
     ]
    }
   ],
   "source": [
    "diwa = Email(\"dmt@gmail.com\",'dmt123')\n",
    "diwa.login()\n",
    "diwa.recipient_details(\"sid@gmail.com\",\"Data Science Intern\")\n",
    "diwa.Email_details()"
   ]
  },
  {
   "cell_type": "code",
   "execution_count": 36,
   "id": "723049a7-7bda-41a7-9824-6e5c189f86c1",
   "metadata": {},
   "outputs": [],
   "source": [
    "#9 Social media profile \n",
    "\n",
    "class social_media:\n",
    "    def __init__(self,username,old_posts):\n",
    "        self.username = username\n",
    "        self.posts = old_posts\n",
    "        \n",
    "    def add_posts(self,new_posts):\n",
    "        self.posts.append(new_posts)\n",
    "        \n",
    "    def display_posts(self,show_post):\n",
    "        if show_post in self.posts:\n",
    "            print(\"Display post for:\",show_post)\n",
    "            print(\"Total posts:\",self.posts)\n",
    "        else:\n",
    "            print(\"Post is not available in search list\")"
   ]
  },
  {
   "cell_type": "code",
   "execution_count": 37,
   "id": "bf1a2b35-db38-4af3-9425-14c424c27b54",
   "metadata": {},
   "outputs": [
    {
     "name": "stdout",
     "output_type": "stream",
     "text": [
      "Display post for: Goa tour\n",
      "Total posts: ['Goa tour', 'Himachal tour', 'Varanasi tour', 'College_days', 'Business trip', 'Dubai trip']\n"
     ]
    }
   ],
   "source": [
    "diwa = social_media('Diwaker',['Goa tour','Himachal tour','Varanasi tour','College_days','Business trip'])\n",
    "diwa.add_posts('Dubai trip')\n",
    "diwa.display_posts('Goa tour')"
   ]
  },
  {
   "cell_type": "code",
   "execution_count": 59,
   "id": "08290a34-5b3c-4974-84fd-5c29e0983cc9",
   "metadata": {},
   "outputs": [],
   "source": [
    "#10 To_do_list\n",
    "\n",
    "class to_do_list:\n",
    "    \n",
    "    def __init__(self,task,due_day):\n",
    "        self.task = [task]\n",
    "        self.due_day = due_day\n",
    "        \n",
    "    def add_task(self,Task_to_do):\n",
    "        self.task.append(Task_to_do)\n",
    "        print(\"To_do_List\",Task_to_do)\n",
    "        \n",
    "    def completed_task(self,task_done):\n",
    "        if task_done in self.task:\n",
    "            self.task.remove(task_done)\n",
    "            print(\"Task mark as done:\",task_done)\n",
    "\n",
    "    def pending_task(self):\n",
    "        print(\"Task to do before:\",self.due_day,self.task)"
   ]
  },
  {
   "cell_type": "code",
   "execution_count": 62,
   "id": "b87f07af-ea13-416c-96da-f761d5907f83",
   "metadata": {},
   "outputs": [
    {
     "name": "stdout",
     "output_type": "stream",
     "text": [
      "To_do_List ['Washing car', 'Buy Groceries', 'Pay bill', 'Assignment Completion']\n",
      "Task mark as done: Shopping\n",
      "Task to do before: Sunday [['Washing car', 'Buy Groceries', 'Pay bill', 'Assignment Completion']]\n"
     ]
    }
   ],
   "source": [
    "diwa = to_do_list('Shopping', 'Sunday')\n",
    "diwa.add_task(['Washing car','Buy Groceries','Pay bill','Assignment Completion'])\n",
    "diwa.completed_task('Shopping')\n",
    "diwa.pending_task()"
   ]
  },
  {
   "cell_type": "code",
   "execution_count": null,
   "id": "db5dbc0d-678c-414e-a967-ef95d603ac20",
   "metadata": {},
   "outputs": [],
   "source": []
  }
 ],
 "metadata": {
  "kernelspec": {
   "display_name": "Python 3 (ipykernel)",
   "language": "python",
   "name": "python3"
  },
  "language_info": {
   "codemirror_mode": {
    "name": "ipython",
    "version": 3
   },
   "file_extension": ".py",
   "mimetype": "text/x-python",
   "name": "python",
   "nbconvert_exporter": "python",
   "pygments_lexer": "ipython3",
   "version": "3.10.8"
  }
 },
 "nbformat": 4,
 "nbformat_minor": 5
}
