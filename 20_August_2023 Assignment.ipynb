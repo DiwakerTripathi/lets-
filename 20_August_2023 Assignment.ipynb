{
 "cells": [
  {
   "cell_type": "code",
   "execution_count": 1,
   "id": "487621ad-a862-4a7c-b924-3ffc6e8e8118",
   "metadata": {},
   "outputs": [],
   "source": [
    "#1 Reverse a string.\n",
    "def reverse_string(string):\n",
    "    if string==\"\":\n",
    "        return \"\"\n",
    "    else:\n",
    "        return reverse_string(string[1:]) + string[0]"
   ]
  },
  {
   "cell_type": "code",
   "execution_count": 3,
   "id": "532c9b3f-58a6-4634-b81e-ed269f8973d0",
   "metadata": {},
   "outputs": [
    {
     "data": {
      "text/plain": [
       "'smeti fo gnisahcrup'"
      ]
     },
     "execution_count": 3,
     "metadata": {},
     "output_type": "execute_result"
    }
   ],
   "source": [
    "reverse_string('purchasing of items')"
   ]
  },
  {
   "cell_type": "code",
   "execution_count": 10,
   "id": "bdab0391-fc45-4dc9-a046-c8d3d5e97dd5",
   "metadata": {},
   "outputs": [],
   "source": [
    "#2 To check a string is palindrome or not.\n",
    "def palindrome(string):\n",
    "    s= string.lower()\n",
    "    if s==s[::-1]:\n",
    "        return \"The string is palindrome\"\n",
    "    else:\n",
    "        return \"Not a palindrome\" "
   ]
  },
  {
   "cell_type": "code",
   "execution_count": 11,
   "id": "d0d00857-f15e-47a2-a736-6e4317e4fc3b",
   "metadata": {},
   "outputs": [
    {
     "data": {
      "text/plain": [
       "'The string is palindrome'"
      ]
     },
     "execution_count": 11,
     "metadata": {},
     "output_type": "execute_result"
    }
   ],
   "source": [
    "palindrome(\"racecar\")"
   ]
  },
  {
   "cell_type": "code",
   "execution_count": 13,
   "id": "683c4f58-b843-4dd3-a177-d89a456102e1",
   "metadata": {},
   "outputs": [
    {
     "name": "stdin",
     "output_type": "stream",
     "text": [
      "enter the string- forest\n"
     ]
    },
    {
     "name": "stdout",
     "output_type": "stream",
     "text": [
      "FOREST\n"
     ]
    }
   ],
   "source": [
    "#3 Uppercase.\n",
    "string= input(\"enter the string-\")\n",
    "s = string.upper()\n",
    "print(s)\n"
   ]
  },
  {
   "cell_type": "code",
   "execution_count": 14,
   "id": "8b5b8e92-f8a6-4e1f-9ea0-f701291a7977",
   "metadata": {},
   "outputs": [
    {
     "name": "stdin",
     "output_type": "stream",
     "text": [
      "enter the string- INDUSTRIES\n"
     ]
    },
    {
     "name": "stdout",
     "output_type": "stream",
     "text": [
      "industries\n"
     ]
    }
   ],
   "source": [
    "#4 Lowercase\n",
    "string= input(\"enter the string-\")\n",
    "s = string.lower()\n",
    "print(s)"
   ]
  },
  {
   "cell_type": "code",
   "execution_count": 15,
   "id": "ec6f69ba-bf20-4c74-b582-0e8ce1c50aba",
   "metadata": {},
   "outputs": [
    {
     "name": "stdin",
     "output_type": "stream",
     "text": [
      "enter the string Occupation\n"
     ]
    },
    {
     "name": "stdout",
     "output_type": "stream",
     "text": [
      "Number of vowels are: 5\n"
     ]
    }
   ],
   "source": [
    "#5 Number of vowels in a string\n",
    "string=input(\"enter the string\")\n",
    "vowels_count = 0\n",
    "s = string.lower()\n",
    "vowels=set('aeiou')\n",
    "for char in s:\n",
    "    if char in vowels:\n",
    "        vowels_count += 1\n",
    "print(\"Number of vowels are:\",vowels_count)"
   ]
  },
  {
   "cell_type": "code",
   "execution_count": 16,
   "id": "c88cb289-5c09-49d0-b5a3-eb47bf66dc6d",
   "metadata": {},
   "outputs": [
    {
     "name": "stdin",
     "output_type": "stream",
     "text": [
      "enter the string Education\n"
     ]
    },
    {
     "name": "stdout",
     "output_type": "stream",
     "text": [
      "Number of consonants are: 4\n"
     ]
    }
   ],
   "source": [
    "#6 Number of consonants in a string\n",
    "string=input(\"enter the string\")\n",
    "consonants_count = 0\n",
    "s = string.lower()\n",
    "consonants=set('bcdfghjklmnpqrstvwxyz')\n",
    "for char in s:\n",
    "    if char in consonants:\n",
    "        consonants_count += 1\n",
    "print(\"Number of consonants are:\",consonants_count)"
   ]
  },
  {
   "cell_type": "code",
   "execution_count": 17,
   "id": "86d9e3aa-13ae-41e3-82f4-4cac7c8f8219",
   "metadata": {},
   "outputs": [],
   "source": [
    "#7 Remove whitespaces from a string\n",
    "def remove_whitespaces(entered_string):\n",
    "    output_string=\"\"\n",
    "    for char in entered_string:\n",
    "        if char != \" \":\n",
    "            output_string += char\n",
    "    return output_string"
   ]
  },
  {
   "cell_type": "code",
   "execution_count": 19,
   "id": "ce7c2b95-4354-4177-8725-5cb1630e8e88",
   "metadata": {},
   "outputs": [
    {
     "data": {
      "text/plain": [
       "'honestyisthebestpolicy'"
      ]
     },
     "execution_count": 19,
     "metadata": {},
     "output_type": "execute_result"
    }
   ],
   "source": [
    "remove_whitespaces(\"honesty is the best policy\")"
   ]
  },
  {
   "cell_type": "code",
   "execution_count": 21,
   "id": "a93e5d0b-0d62-4efb-9c00-7786e68dc7c2",
   "metadata": {},
   "outputs": [],
   "source": [
    "#8 Number of character without len \n",
    "def length(string):\n",
    "    count=0\n",
    "    string = string.lower()\n",
    "    alpha = set(\"abcdefghijklmnopqrstuvwxyz\")\n",
    "    for char in string:\n",
    "        if char in alpha:\n",
    "            count +=1\n",
    "    print(\"length of character:\",count)"
   ]
  },
  {
   "cell_type": "code",
   "execution_count": 22,
   "id": "273e7751-6f72-49b9-90c8-c6f225d6f165",
   "metadata": {},
   "outputs": [
    {
     "name": "stdout",
     "output_type": "stream",
     "text": [
      "length of character: 14\n"
     ]
    }
   ],
   "source": [
    "length('Hello mini world')"
   ]
  },
  {
   "cell_type": "code",
   "execution_count": 23,
   "id": "6dbc29dc-c77c-429d-8cd5-614811445598",
   "metadata": {},
   "outputs": [
    {
     "name": "stdin",
     "output_type": "stream",
     "text": [
      "enter the string UP,MP,DELHI,GOA,MP,ORRISA\n",
      "enter your search GOA\n"
     ]
    },
    {
     "name": "stdout",
     "output_type": "stream",
     "text": [
      "The string contains: GOA\n"
     ]
    }
   ],
   "source": [
    "#9 Whether the string contains a specific word\n",
    "input_string = input(\"enter the string\")\n",
    "check_word = input(\"enter your search\")\n",
    "if check_word in input_string:\n",
    "    print(\"The string contains:\",check_word)\n",
    "else:\n",
    "        print(\"The result not found\")"
   ]
  },
  {
   "cell_type": "code",
   "execution_count": 25,
   "id": "e65a9436-5ccf-4347-96e5-0a2990f6ff94",
   "metadata": {},
   "outputs": [
    {
     "name": "stdin",
     "output_type": "stream",
     "text": [
      "enter the string The world is mine\n",
      "enter the  new word fine\n",
      "enter the word to be replaced mine\n"
     ]
    },
    {
     "name": "stdout",
     "output_type": "stream",
     "text": [
      "The world is fine\n"
     ]
    }
   ],
   "source": [
    "#10 Replace a word with a new one\n",
    "input_string= input(\"enter the string\")\n",
    "new_word= input(\"enter the  new word\")\n",
    "old_word=input(\"enter the word to be replaced\")\n",
    "modified_string = input_string.replace(old_word,new_word)\n",
    "print(modified_string)"
   ]
  },
  {
   "cell_type": "code",
   "execution_count": 1,
   "id": "dfd0e49f-2fd8-4565-b671-238a9744d6fd",
   "metadata": {},
   "outputs": [],
   "source": [
    "#11 Occurance of a word in a string\n",
    "def no_of_words(string,word):\n",
    "    word_count = 0\n",
    "    sentence=string.split()\n",
    "    for words in sentence:\n",
    "        if words == word:\n",
    "            word_count +=1\n",
    "    print(\"The word appears\",word_count,\"times\")"
   ]
  },
  {
   "cell_type": "code",
   "execution_count": 4,
   "id": "217e6ea9-9812-451f-b0aa-69e946eb83ef",
   "metadata": {},
   "outputs": [
    {
     "name": "stdout",
     "output_type": "stream",
     "text": [
      "The word appears 3 times\n"
     ]
    }
   ],
   "source": [
    "no_of_words(\"He is prefect also he is annoying and here is curious\", 'is')"
   ]
  },
  {
   "cell_type": "code",
   "execution_count": 11,
   "id": "79dc2724-a403-478e-ade2-05ee4d8854c7",
   "metadata": {},
   "outputs": [],
   "source": [
    "#12 First occurance of a word\n",
    "def Search_word(string,word):\n",
    "    index= string.find(word)\n",
    "    if index == -1:\n",
    "        return None\n",
    "    print( \"The index of the word is:\",index)"
   ]
  },
  {
   "cell_type": "code",
   "execution_count": 12,
   "id": "25671fac-19d1-4cc3-b1d5-6155aa7ef280",
   "metadata": {},
   "outputs": [
    {
     "name": "stdout",
     "output_type": "stream",
     "text": [
      "The index of the word is: 10\n"
     ]
    }
   ],
   "source": [
    "Search_word(\"the world is developing\",'is' )"
   ]
  },
  {
   "cell_type": "code",
   "execution_count": 3,
   "id": "3e0a99b5-2a90-4d16-bc7f-81b9c030623c",
   "metadata": {},
   "outputs": [],
   "source": [
    "#13 Last occurance of a word\n",
    "def last_search_word(string,word):\n",
    "    index= string.rfind(word)\n",
    "    if index == -1:\n",
    "        return None\n",
    "    print( \"The index of the word is:\",index)"
   ]
  },
  {
   "cell_type": "code",
   "execution_count": 5,
   "id": "a6b695fa-fb42-4897-a49f-5b55117bd890",
   "metadata": {},
   "outputs": [
    {
     "name": "stdout",
     "output_type": "stream",
     "text": [
      "The index of the word is: 27\n"
     ]
    }
   ],
   "source": [
    "last_search_word(\"learning means growing and growing leads to development\",'growing')"
   ]
  },
  {
   "cell_type": "code",
   "execution_count": 9,
   "id": "4e5adffa-f484-4ea5-91ca-2e116242c697",
   "metadata": {},
   "outputs": [],
   "source": [
    "#14 Split a string into words\n",
    "def split(string):\n",
    "    word = string.split()\n",
    "    return word"
   ]
  },
  {
   "cell_type": "code",
   "execution_count": 10,
   "id": "05f91e6b-f146-4291-a008-884b4166b13e",
   "metadata": {},
   "outputs": [
    {
     "data": {
      "text/plain": [
       "['geography', 'is', 'the', 'science', 'of', 'the', 'earth']"
      ]
     },
     "execution_count": 10,
     "metadata": {},
     "output_type": "execute_result"
    }
   ],
   "source": [
    "split(\"geography is the science of the earth\")"
   ]
  },
  {
   "cell_type": "code",
   "execution_count": 11,
   "id": "e4177622-8d67-4168-b78b-73c02e2e4c02",
   "metadata": {},
   "outputs": [],
   "source": [
    "#15 Join a list of words \n",
    "def join(words):\n",
    "    sentence = ' '.join(words)\n",
    "    return sentence"
   ]
  },
  {
   "cell_type": "code",
   "execution_count": 13,
   "id": "6bc194e9-7c83-4b4c-add1-771b4fda05ed",
   "metadata": {},
   "outputs": [
    {
     "data": {
      "text/plain": [
       "'hardwork never disappears'"
      ]
     },
     "execution_count": 13,
     "metadata": {},
     "output_type": "execute_result"
    }
   ],
   "source": [
    "join(['hardwork','never','disappears'])"
   ]
  },
  {
   "cell_type": "code",
   "execution_count": 14,
   "id": "fe86729a-f512-450b-b6fd-2fff552e8adf",
   "metadata": {},
   "outputs": [],
   "source": [
    "#16 Replace spaces by underscores\n",
    "def underscore_words(string):\n",
    "    underscore_string=string.replace(' ','_')\n",
    "    return underscore_string"
   ]
  },
  {
   "cell_type": "code",
   "execution_count": 15,
   "id": "8c3eb6a8-a3ab-46ef-8df1-3da567c3b29b",
   "metadata": {},
   "outputs": [
    {
     "data": {
      "text/plain": [
       "'here_comes_the_big_bull_of_the_industry'"
      ]
     },
     "execution_count": 15,
     "metadata": {},
     "output_type": "execute_result"
    }
   ],
   "source": [
    "underscore_words(\"here comes the big bull of the industry\")"
   ]
  },
  {
   "cell_type": "code",
   "execution_count": 16,
   "id": "0423ec96-7dd7-4997-8ebe-c406e0903af8",
   "metadata": {},
   "outputs": [],
   "source": [
    "#17 Whether a string starts with a specific word\n",
    "def sentence(string,word):\n",
    "    check_word = string.startswith(word)\n",
    "    if check_word is True:\n",
    "        print(\"The given sentence start with:\",word)\n",
    "    else:\n",
    "        print(\"The given sentence doesnot start with:\",word)"
   ]
  },
  {
   "cell_type": "code",
   "execution_count": 17,
   "id": "a4fb3300-1c90-4f3f-85e5-525c6b503fec",
   "metadata": {},
   "outputs": [
    {
     "name": "stdout",
     "output_type": "stream",
     "text": [
      "The given sentence start with: earth\n"
     ]
    }
   ],
   "source": [
    "sentence(\"earth is round\",'earth')"
   ]
  },
  {
   "cell_type": "code",
   "execution_count": 20,
   "id": "f174fcb6-1380-4fbd-ba52-0c3e33e2013a",
   "metadata": {},
   "outputs": [],
   "source": [
    "#18 Whether a given string ends with a given word\n",
    "def sentence(string,word):\n",
    "    check_word = string.endswith(word)\n",
    "    if check_word is True:\n",
    "        print(\"The given sentence ends with:\",word)\n",
    "    else:\n",
    "        print(\"The given sentence doesnot ends with:\",word)"
   ]
  },
  {
   "cell_type": "code",
   "execution_count": 21,
   "id": "efd34a33-053d-4a81-a060-0e731cb721a4",
   "metadata": {},
   "outputs": [
    {
     "name": "stdout",
     "output_type": "stream",
     "text": [
      "The given sentence ends with: nature\n"
     ]
    }
   ],
   "source": [
    "sentence(\"evolution is the law of nature\",'nature')"
   ]
  },
  {
   "cell_type": "code",
   "execution_count": 22,
   "id": "e2432680-9715-405a-8eb6-8c2b8f9213eb",
   "metadata": {},
   "outputs": [],
   "source": [
    "#19 Convert a string to title case\n",
    "def title_case(string):\n",
    "    sentence= string.title()\n",
    "    return sentence"
   ]
  },
  {
   "cell_type": "code",
   "execution_count": 23,
   "id": "dc432a0d-c9cf-4497-8cd9-409c677c75f3",
   "metadata": {},
   "outputs": [
    {
     "data": {
      "text/plain": [
       "'Market Is Growing'"
      ]
     },
     "execution_count": 23,
     "metadata": {},
     "output_type": "execute_result"
    }
   ],
   "source": [
    "title_case(\"market is growing\")"
   ]
  },
  {
   "cell_type": "code",
   "execution_count": 41,
   "id": "3277fce3-03b8-42e3-a5c5-f92dd849bf4b",
   "metadata": {},
   "outputs": [],
   "source": [
    "#20 Longest word in a string\n",
    "def longest_word(string):\n",
    "    words = string.split()\n",
    "    value = \" \"\n",
    "    max_length = 0\n",
    "    for word in words:\n",
    "        if len(word) > max_length:\n",
    "            max_length = len(word)\n",
    "            value = word\n",
    "    print(\"The longest word is: \",value)"
   ]
  },
  {
   "cell_type": "code",
   "execution_count": 42,
   "id": "61ede587-3e7d-4b6f-b798-1f68aba6c1a9",
   "metadata": {},
   "outputs": [
    {
     "name": "stdout",
     "output_type": "stream",
     "text": [
      "The longest word is:  directly\n"
     ]
    }
   ],
   "source": [
    "longest_word(\"stress can directly impact your mental ability\")"
   ]
  },
  {
   "cell_type": "code",
   "execution_count": 51,
   "id": "1af9ddfa-09b3-4d14-a556-5da23afda4a5",
   "metadata": {},
   "outputs": [],
   "source": [
    "#21 Shortest word in a string\n",
    "def shortest_word(string):\n",
    "    words = string.split()\n",
    "    value = None\n",
    "    min_length = float(50)\n",
    "    for word in words:\n",
    "        if len(word) < min_length:\n",
    "            min_length = len(word)\n",
    "            value = word\n",
    "    print(\"The shortest word is: \",value)"
   ]
  },
  {
   "cell_type": "code",
   "execution_count": 52,
   "id": "500a5381-339d-44fd-a617-7059d11ad1eb",
   "metadata": {},
   "outputs": [
    {
     "name": "stdout",
     "output_type": "stream",
     "text": [
      "The shortest word is:  can\n"
     ]
    }
   ],
   "source": [
    "shortest_word(\"stress can directly impact your mental ability\")"
   ]
  },
  {
   "cell_type": "code",
   "execution_count": 61,
   "id": "a5e3a789-c653-42d2-a689-211ec9c9f524",
   "metadata": {},
   "outputs": [],
   "source": [
    "#22 Reverse the order of word in string\n",
    "def reverse_words(string):\n",
    "    reverse = string.split()[::-1]\n",
    "    l =[]\n",
    "    for i in reverse:\n",
    "        l.append(i)\n",
    "        word = \" \".join(l)\n",
    "    return word"
   ]
  },
  {
   "cell_type": "code",
   "execution_count": 62,
   "id": "4cf0ef15-9376-49f0-b5c9-ce2da9667ae3",
   "metadata": {},
   "outputs": [
    {
     "data": {
      "text/plain": [
       "'invention to leads curiosity'"
      ]
     },
     "execution_count": 62,
     "metadata": {},
     "output_type": "execute_result"
    }
   ],
   "source": [
    "reverse_words(\"curiosity leads to invention\")"
   ]
  },
  {
   "cell_type": "code",
   "execution_count": 69,
   "id": "8f4dc940-78d3-4ff3-bd12-4bdefe914852",
   "metadata": {},
   "outputs": [],
   "source": [
    "#23 If a string is alphanumeric\n",
    "def alphanumeric(text):\n",
    "    string = text.isalnum()\n",
    "    if string is True:\n",
    "        print(\"The string is alphanumeric\")\n",
    "    else:\n",
    "        print(\"The string is not alphanumeric\")"
   ]
  },
  {
   "cell_type": "code",
   "execution_count": 70,
   "id": "21cc5556-b702-406e-8645-a7bfc613a902",
   "metadata": {},
   "outputs": [
    {
     "name": "stdout",
     "output_type": "stream",
     "text": [
      "The string is alphanumeric\n"
     ]
    }
   ],
   "source": [
    "alphanumeric(\"bottle234\")"
   ]
  },
  {
   "cell_type": "code",
   "execution_count": 71,
   "id": "5280f9d8-06e3-4acc-8f28-2f539ec6f338",
   "metadata": {},
   "outputs": [],
   "source": [
    "#24 Extract digits from given string\n",
    "def extract_digits(string):\n",
    "    digits = \"\"\n",
    "    for char in string:\n",
    "        if char.isdigit():\n",
    "            digits += char\n",
    "    return digits"
   ]
  },
  {
   "cell_type": "code",
   "execution_count": 72,
   "id": "ca557abd-fb6a-4195-9f8b-9fa9eda38548",
   "metadata": {},
   "outputs": [
    {
     "data": {
      "text/plain": [
       "'123456'"
      ]
     },
     "execution_count": 72,
     "metadata": {},
     "output_type": "execute_result"
    }
   ],
   "source": [
    "extract_digits(\"hello1234rollcall56\")"
   ]
  },
  {
   "cell_type": "code",
   "execution_count": 75,
   "id": "5de36af4-61b2-49d9-bf15-2c093054469d",
   "metadata": {},
   "outputs": [],
   "source": [
    "#25 Extract all alphabet from a string\n",
    "def extract_alpha(string):\n",
    "    alpha = \"\"\n",
    "    for char in string:\n",
    "        if char.isalpha():\n",
    "            alpha += char\n",
    "    return alpha"
   ]
  },
  {
   "cell_type": "code",
   "execution_count": 77,
   "id": "628b711f-37d2-4b37-ac2b-f381307cf616",
   "metadata": {},
   "outputs": [
    {
     "data": {
      "text/plain": [
       "'Thenumbercomprisesto'"
      ]
     },
     "execution_count": 77,
     "metadata": {},
     "output_type": "execute_result"
    }
   ],
   "source": [
    "extract_alpha(\"The number comprises 0 to 9 \")"
   ]
  },
  {
   "cell_type": "code",
   "execution_count": 79,
   "id": "c0260017-d338-415a-b74a-ea2831d13bb1",
   "metadata": {},
   "outputs": [],
   "source": [
    "#26 Count uppercase letters in a string\n",
    "def count_uppercase(string):\n",
    "    count = 0\n",
    "    for char in string:\n",
    "        if char.isupper():\n",
    "            count += 1\n",
    "    return count         "
   ]
  },
  {
   "cell_type": "code",
   "execution_count": 80,
   "id": "53f31fc3-3955-4664-8e51-fca31b39a41b",
   "metadata": {},
   "outputs": [
    {
     "data": {
      "text/plain": [
       "5"
      ]
     },
     "execution_count": 80,
     "metadata": {},
     "output_type": "execute_result"
    }
   ],
   "source": [
    "count_uppercase(\"Python Is Easy To Learn\")"
   ]
  },
  {
   "cell_type": "code",
   "execution_count": 81,
   "id": "e2233b4d-986d-4a6f-86b1-da2b6c7f8de8",
   "metadata": {},
   "outputs": [],
   "source": [
    "#27 Count lowercase in a string\n",
    "def count_lowercase(string):\n",
    "    count = 0\n",
    "    for char in string:\n",
    "        if char.islower():\n",
    "            count += 1\n",
    "    return count     "
   ]
  },
  {
   "cell_type": "code",
   "execution_count": 82,
   "id": "e36358bd-78ac-47d6-9111-67558b87e6d4",
   "metadata": {},
   "outputs": [
    {
     "data": {
      "text/plain": [
       "14"
      ]
     },
     "execution_count": 82,
     "metadata": {},
     "output_type": "execute_result"
    }
   ],
   "source": [
    "count_lowercase(\"Python Is Easy To Learn\")"
   ]
  },
  {
   "cell_type": "code",
   "execution_count": 83,
   "id": "08616a4f-2e2d-40df-abc5-e3e5e3e409a6",
   "metadata": {},
   "outputs": [],
   "source": [
    "#28 Swap the case of each character in a string\n",
    "def swap_case(string):\n",
    "    swap_string= string.swapcase()\n",
    "    return swap_string"
   ]
  },
  {
   "cell_type": "code",
   "execution_count": 84,
   "id": "b22f969b-1a0c-42a4-808e-d16a59a41c62",
   "metadata": {},
   "outputs": [
    {
     "data": {
      "text/plain": [
       "'HELLO WORLD'"
      ]
     },
     "execution_count": 84,
     "metadata": {},
     "output_type": "execute_result"
    }
   ],
   "source": [
    "swap_case(\"hello world\")"
   ]
  },
  {
   "cell_type": "code",
   "execution_count": 17,
   "id": "96ea44d7-344e-46e7-9e12-daf9fb788621",
   "metadata": {},
   "outputs": [],
   "source": [
    "#29 Remove a word from a string\n",
    "def remove_character(string,word):\n",
    "    words = string.split()\n",
    "    filtered_words = [i for i in words if i != word]\n",
    "    sentence = \"\".join(filtered_words)\n",
    "    return sentence           "
   ]
  },
  {
   "cell_type": "code",
   "execution_count": 18,
   "id": "47f78df4-bad5-4c00-900c-e1b98a358307",
   "metadata": {},
   "outputs": [
    {
     "data": {
      "text/plain": [
       "'timeisrunning'"
      ]
     },
     "execution_count": 18,
     "metadata": {},
     "output_type": "execute_result"
    }
   ],
   "source": [
    "remove_character(\"time is running fast\",'fast')"
   ]
  },
  {
   "cell_type": "code",
   "execution_count": 25,
   "id": "d521da3e-b245-4c7f-acd1-9c599e60e19a",
   "metadata": {},
   "outputs": [],
   "source": [
    "#30 String is a valid email or not\n",
    "import re\n",
    "def valid_email(email):\n",
    "    pattern = r'^[\\w\\.-]+@[\\w\\.-]+\\.\\w+$'\n",
    "    if re.match(pattern,email):\n",
    "        return \"Valid mail\"\n",
    "    else:\n",
    "        return \"Invalid\"\n"
   ]
  },
  {
   "cell_type": "code",
   "execution_count": 26,
   "id": "f8ba6494-fbe0-457f-826c-2915ab3a4b1e",
   "metadata": {},
   "outputs": [
    {
     "data": {
      "text/plain": [
       "'Invalid'"
      ]
     },
     "execution_count": 26,
     "metadata": {},
     "output_type": "execute_result"
    }
   ],
   "source": [
    "valid_email(\"findgmail.com\")"
   ]
  },
  {
   "cell_type": "code",
   "execution_count": 28,
   "id": "c0a83fbf-c8d8-4be6-9cb9-e2a2e3de97e0",
   "metadata": {},
   "outputs": [],
   "source": [
    "#31 Extract username from mail\n",
    "def extract_username(email):\n",
    "    username = email.split('@')[0]\n",
    "    return username"
   ]
  },
  {
   "cell_type": "code",
   "execution_count": 29,
   "id": "e56faea3-f0ac-4677-97d7-fbeb8958fefd",
   "metadata": {},
   "outputs": [
    {
     "data": {
      "text/plain": [
       "'sunxyz'"
      ]
     },
     "execution_count": 29,
     "metadata": {},
     "output_type": "execute_result"
    }
   ],
   "source": [
    "extract_username(\"sunxyz@yahoo.com\")"
   ]
  },
  {
   "cell_type": "code",
   "execution_count": 30,
   "id": "9db0d0e0-c13a-4134-bc2d-c13b6b671937",
   "metadata": {},
   "outputs": [],
   "source": [
    "#32 Extract the domain from mail\n",
    "def extract_domain(email):\n",
    "    domain = email.split('@')[1]\n",
    "    return domain"
   ]
  },
  {
   "cell_type": "code",
   "execution_count": 31,
   "id": "822a29da-fc3e-4f17-8d7a-9369ae186820",
   "metadata": {},
   "outputs": [
    {
     "data": {
      "text/plain": [
       "'yahoo.com'"
      ]
     },
     "execution_count": 31,
     "metadata": {},
     "output_type": "execute_result"
    }
   ],
   "source": [
    "extract_domain(\"sunxyz@yahoo.com\")"
   ]
  },
  {
   "cell_type": "code",
   "execution_count": 34,
   "id": "58441d7c-bd8c-4ab5-b2f4-8bb216f28586",
   "metadata": {},
   "outputs": [],
   "source": [
    "#33 Replace multiple spaces\n",
    "def multiple_spaces(string):\n",
    "    clear_space= ''.join(string.split())\n",
    "    return clear_space"
   ]
  },
  {
   "cell_type": "code",
   "execution_count": 35,
   "id": "ae2fb905-ee76-4eb3-9422-0a0803192cf3",
   "metadata": {},
   "outputs": [
    {
     "data": {
      "text/plain": [
       "'humanresource'"
      ]
     },
     "execution_count": 35,
     "metadata": {},
     "output_type": "execute_result"
    }
   ],
   "source": [
    "multiple_spaces(\"human resource\")"
   ]
  },
  {
   "cell_type": "code",
   "execution_count": 36,
   "id": "92915147-adcc-42eb-b230-02ddcc51c32e",
   "metadata": {},
   "outputs": [],
   "source": [
    "#34 check a string valid URL\n",
    "from urllib.parse import urlparse\n",
    "\n",
    "def valid_url(url):\n",
    "    try:\n",
    "        result = urlparse(url)\n",
    "        return all([result.scheme, result.netloc])\n",
    "    except ValueError:\n",
    "        return False"
   ]
  },
  {
   "cell_type": "code",
   "execution_count": 37,
   "id": "be170cc6-dace-45dc-965c-b4d2fd6367f3",
   "metadata": {},
   "outputs": [
    {
     "data": {
      "text/plain": [
       "True"
      ]
     },
     "execution_count": 37,
     "metadata": {},
     "output_type": "execute_result"
    }
   ],
   "source": [
    "valid_url(\"http://drmbstick\")"
   ]
  },
  {
   "cell_type": "code",
   "execution_count": 38,
   "id": "acab102d-64ea-4323-950e-6d9cbf4c0c67",
   "metadata": {},
   "outputs": [],
   "source": [
    "#35 Extract the protocol from a url\n",
    "def extract_protocol(url):\n",
    "    protocol_end = url.find(\"://\")\n",
    "    if protocol_end != -1:\n",
    "        protocol = url[:protocol_end]\n",
    "        return protocol\n",
    "    else:\n",
    "        return None"
   ]
  },
  {
   "cell_type": "code",
   "execution_count": 39,
   "id": "a0b19f7f-73ac-4db6-95e1-1869acb53474",
   "metadata": {},
   "outputs": [
    {
     "data": {
      "text/plain": [
       "'http'"
      ]
     },
     "execution_count": 39,
     "metadata": {},
     "output_type": "execute_result"
    }
   ],
   "source": [
    "extract_protocol(\"http://geology123\")"
   ]
  },
  {
   "cell_type": "code",
   "execution_count": 40,
   "id": "52c9a875-59da-438f-89a4-2c4ad4adfa93",
   "metadata": {},
   "outputs": [],
   "source": [
    "#36 Frequency of each character in a string\n",
    "def word_frequency(string):\n",
    "    frequency ={}\n",
    "    for char in string:\n",
    "        if char in frequency:\n",
    "            frequency[char] +=1\n",
    "        else:\n",
    "            frequency[char] = 1\n",
    "    return frequency"
   ]
  },
  {
   "cell_type": "code",
   "execution_count": 45,
   "id": "c9dd079a-a2ab-4dc3-be29-cdc9f7ef2adb",
   "metadata": {},
   "outputs": [
    {
     "data": {
      "text/plain": [
       "{'t': 2,\n",
       " 'e': 3,\n",
       " 'c': 3,\n",
       " 'h': 1,\n",
       " 'n': 3,\n",
       " 'o': 2,\n",
       " 'l': 2,\n",
       " 'g': 1,\n",
       " 'i': 1,\n",
       " 'a': 3,\n",
       " ' ': 1,\n",
       " 'd': 1,\n",
       " 'v': 1,\n",
       " 'm': 1}"
      ]
     },
     "execution_count": 45,
     "metadata": {},
     "output_type": "execute_result"
    }
   ],
   "source": [
    "word_frequency(\"technological advancement\")"
   ]
  },
  {
   "cell_type": "code",
   "execution_count": 50,
   "id": "ebf25403-b7ce-434f-97ac-9128dacf4f9d",
   "metadata": {},
   "outputs": [],
   "source": [
    "#37 Remove all punctuations\n",
    "import string\n",
    "def remove_punctuation(given_string):\n",
    "    translator = str.maketrans(\"\", \"\", string.punctuation)\n",
    "    clean_string = given_string.translate(translator)\n",
    "    return clean_string"
   ]
  },
  {
   "cell_type": "code",
   "execution_count": 51,
   "id": "29859e0e-7dae-4f1e-bc0f-b98e6e966724",
   "metadata": {},
   "outputs": [
    {
     "data": {
      "text/plain": [
       "'hello world'"
      ]
     },
     "execution_count": 51,
     "metadata": {},
     "output_type": "execute_result"
    }
   ],
   "source": [
    "remove_punctuation(\"hello! world\")"
   ]
  },
  {
   "cell_type": "code",
   "execution_count": 52,
   "id": "c64d6953-e67f-4c6f-b41e-74a61a2746d1",
   "metadata": {},
   "outputs": [],
   "source": [
    "#38 Check if a string contains only digits\n",
    "def only_digits(string):\n",
    "    return string.isdigit()"
   ]
  },
  {
   "cell_type": "code",
   "execution_count": 54,
   "id": "45948624-9269-46c3-ae4a-5e023bcd2c9b",
   "metadata": {},
   "outputs": [
    {
     "data": {
      "text/plain": [
       "True"
      ]
     },
     "execution_count": 54,
     "metadata": {},
     "output_type": "execute_result"
    }
   ],
   "source": [
    "only_digits(\"123\")"
   ]
  },
  {
   "cell_type": "code",
   "execution_count": 62,
   "id": "aa47e306-9cb0-4b39-9415-0a0161aa1c4c",
   "metadata": {},
   "outputs": [],
   "source": [
    "#39 Check if a string contains only alphabets\n",
    "def only_alpha(string):\n",
    "    return string.isalpha()"
   ]
  },
  {
   "cell_type": "code",
   "execution_count": 63,
   "id": "0c68f088-aa5a-4966-9984-12d61fecf26b",
   "metadata": {},
   "outputs": [
    {
     "data": {
      "text/plain": [
       "False"
      ]
     },
     "execution_count": 63,
     "metadata": {},
     "output_type": "execute_result"
    }
   ],
   "source": [
    "only_alpha(\"vacation01\")"
   ]
  },
  {
   "cell_type": "code",
   "execution_count": 64,
   "id": "d669f0ae-7f95-4b24-a3ad-e4127c14dc97",
   "metadata": {},
   "outputs": [],
   "source": [
    "#40 String to list of characters\n",
    "def list_character(string):\n",
    "    char_list = list(string)\n",
    "    return char_list"
   ]
  },
  {
   "cell_type": "code",
   "execution_count": 65,
   "id": "302a95a7-7e27-4ba5-bd64-ad53fa0457f8",
   "metadata": {},
   "outputs": [
    {
     "data": {
      "text/plain": [
       "['c', 'o', 'n', 'c', 'e', 'n', 't', 'r', 'a', 't', 'i', 'o', 'n']"
      ]
     },
     "execution_count": 65,
     "metadata": {},
     "output_type": "execute_result"
    }
   ],
   "source": [
    "list_character('concentration')"
   ]
  },
  {
   "cell_type": "code",
   "execution_count": 67,
   "id": "874d5bba-179f-4d66-b1f0-3a2fbe2db943",
   "metadata": {},
   "outputs": [],
   "source": [
    "#41 String are anagrams \n",
    "def anagram(string1,string2):\n",
    "    st1 =string1.replace(\" \",\"\").lower()\n",
    "    st2 =string2.replace(\" \",\"\").lower()\n",
    "    if sorted(st1) == sorted(st2):\n",
    "        print(\"The given string are anagrams\")\n",
    "    else:\n",
    "        print(\"Not anagrams\")"
   ]
  },
  {
   "cell_type": "code",
   "execution_count": 68,
   "id": "4205700e-103d-429f-b950-aea0ae9cd1cf",
   "metadata": {},
   "outputs": [
    {
     "name": "stdout",
     "output_type": "stream",
     "text": [
      "The given string are anagrams\n"
     ]
    }
   ],
   "source": [
    "anagram('nest','sent')"
   ]
  },
  {
   "cell_type": "code",
   "execution_count": 83,
   "id": "7c062b92-2175-45c9-80a1-6fbcea5fd645",
   "metadata": {},
   "outputs": [],
   "source": [
    "#42 Encode a string using caesar cipher\n",
    "def caesar_cipher(text,shift):\n",
    "    encoded_text = \"\"\n",
    "    for char in text:\n",
    "        if char.isalpha():\n",
    "            encoded_char = chr((ord(char) + shift - ord('a')) % 26 + ord('a'))\n",
    "        else:\n",
    "            encoded_char = char\n",
    "        encoded_text += encoded_char\n",
    "    return encoded_text "
   ]
  },
  {
   "cell_type": "code",
   "execution_count": 82,
   "id": "09f0e3db-4e18-49ab-ac3d-5cfff23133d3",
   "metadata": {},
   "outputs": [
    {
     "data": {
      "text/plain": [
       "'ycmg wr'"
      ]
     },
     "execution_count": 82,
     "metadata": {},
     "output_type": "execute_result"
    }
   ],
   "source": [
    "caesar_cipher('wake up',2)"
   ]
  },
  {
   "cell_type": "code",
   "execution_count": 85,
   "id": "14b3e430-2912-446b-aeba-17475ab1c76b",
   "metadata": {},
   "outputs": [],
   "source": [
    "#43 Decode a encoded string using a caesar cipher\n",
    "def caesar_cipher(text,shift):\n",
    "    decoded_text = \"\"\n",
    "    for char in text:\n",
    "        if char.isalpha():\n",
    "            decoded_char = chr((ord(char) - shift - ord('a')) % 26 + ord('a'))\n",
    "        else:\n",
    "            decoded_char = char\n",
    "        decoded_text += decoded_char\n",
    "    return decoded_text "
   ]
  },
  {
   "cell_type": "code",
   "execution_count": 86,
   "id": "0bf4f3d7-b37f-4665-a458-2a8de2e7cc81",
   "metadata": {},
   "outputs": [
    {
     "data": {
      "text/plain": [
       "'wake up'"
      ]
     },
     "execution_count": 86,
     "metadata": {},
     "output_type": "execute_result"
    }
   ],
   "source": [
    "caesar_cipher('ycmg wr',2)"
   ]
  },
  {
   "cell_type": "code",
   "execution_count": 88,
   "id": "2c3b001e-f81b-483c-b5c3-ec08d515316d",
   "metadata": {},
   "outputs": [],
   "source": [
    "#44 Most frequent word in a string\n",
    "import re\n",
    "from collections import Counter\n",
    "def most_frequent_word(string):\n",
    "    clean_string = re.sub(r'[^\\w\\s]', '',string).lower()\n",
    "    words = clean_string.split()\n",
    "    word_counter = Counter(words)\n",
    "    most_common_word = word_counter.most_common(1)[0][0]\n",
    "    return most_common_word"
   ]
  },
  {
   "cell_type": "code",
   "execution_count": 92,
   "id": "969820ec-fc5e-4976-8560-5e3042467c97",
   "metadata": {},
   "outputs": [
    {
     "data": {
      "text/plain": [
       "'desire'"
      ]
     },
     "execution_count": 92,
     "metadata": {},
     "output_type": "execute_result"
    }
   ],
   "source": [
    "most_frequent_word(\"mind is full of desire and desire never end\")"
   ]
  },
  {
   "cell_type": "code",
   "execution_count": 93,
   "id": "05bd47a3-a8dd-4e1e-8ecf-4401acd42fe2",
   "metadata": {},
   "outputs": [],
   "source": [
    "#45 Unique word in a string\n",
    "import re\n",
    "def unique_words(input_string):\n",
    "    clean_string = re.sub(r'[^\\w\\s]', '', input_string).lower()\n",
    "    words = set(clean_string.split())\n",
    "    return words"
   ]
  },
  {
   "cell_type": "code",
   "execution_count": 95,
   "id": "c43ef453-e03c-435a-bd67-4059cb40e943",
   "metadata": {},
   "outputs": [
    {
     "data": {
      "text/plain": [
       "{'is', 'nature', 'or', 'science'}"
      ]
     },
     "execution_count": 95,
     "metadata": {},
     "output_type": "execute_result"
    }
   ],
   "source": [
    "unique_words(\"nature is science or science is nature\")"
   ]
  },
  {
   "cell_type": "code",
   "execution_count": 96,
   "id": "9c09958c-65a8-4aa5-b9f4-fc4961a2358d",
   "metadata": {},
   "outputs": [
    {
     "name": "stdin",
     "output_type": "stream",
     "text": [
      "enter the string geography\n"
     ]
    },
    {
     "name": "stdout",
     "output_type": "stream",
     "text": [
      "Number of syllable are: 3\n"
     ]
    }
   ],
   "source": [
    "#46 Number of syllable\n",
    "string=input(\"enter the string\")\n",
    "vowels_count = 0\n",
    "s = string.lower()\n",
    "vowels=set('aeiou')\n",
    "for char in s:\n",
    "    if char in vowels:\n",
    "        vowels_count += 1\n",
    "print(\"Number of syllable are:\",vowels_count)"
   ]
  },
  {
   "cell_type": "code",
   "execution_count": 100,
   "id": "672af6b6-d337-4828-9e8c-b84dd6f7c2c1",
   "metadata": {},
   "outputs": [],
   "source": [
    "#47 Contain special character \n",
    "import re\n",
    "def special_characters(input_string):\n",
    "    pattern = re.compile(r'[!@#$%^&*()_+{}\\[\\]:;<>,.?~\\\\/]')\n",
    "    match = pattern.search(input_string)\n",
    "    print( \"contain special character:\",bool(match))"
   ]
  },
  {
   "cell_type": "code",
   "execution_count": 101,
   "id": "0598312f-bd62-4c9c-9c89-ad8bba3f81b6",
   "metadata": {},
   "outputs": [
    {
     "name": "stdout",
     "output_type": "stream",
     "text": [
      "contain special character: True\n"
     ]
    }
   ],
   "source": [
    "special_characters(\"i am<< you are>> but god is @$%\")"
   ]
  },
  {
   "cell_type": "code",
   "execution_count": 12,
   "id": "b87be624-9ffe-43fd-b76d-4509ed35f6b5",
   "metadata": {},
   "outputs": [],
   "source": [
    "#48 Remove the nth word from a string\n",
    "def remove_nth_word(string, n):\n",
    "    words = string.split()\n",
    "    if n >= 1 and n <= len(words):\n",
    "        removed_word = words.pop(n - 1)\n",
    "        modified_string = ' '.join(words)\n",
    "        print(\"original string:\",string)\n",
    "        print( \"modified string:\", modified_string) \n",
    "        print( \"removed word:\", removed_word)\n",
    "    else:\n",
    "        return None, None"
   ]
  },
  {
   "cell_type": "code",
   "execution_count": 13,
   "id": "c54d5468-ff02-4ea1-a451-459cd7f1381e",
   "metadata": {},
   "outputs": [
    {
     "name": "stdout",
     "output_type": "stream",
     "text": [
      "original string: data is the future of computer world\n",
      "modified string: data is the future of world\n",
      "removed word: computer\n"
     ]
    }
   ],
   "source": [
    "remove_nth_word(\"data is the future of computer world\",6)"
   ]
  },
  {
   "cell_type": "code",
   "execution_count": 29,
   "id": "df1b5e2a-cf5f-4c17-97d2-ef94fe6e8c06",
   "metadata": {},
   "outputs": [],
   "source": [
    "#49 Insert a value at nth position in a string\n",
    "def insert_nth_word(string,inserted_word, n):\n",
    "    words = string.split()\n",
    "    if n >= 1 and n <= len(words):\n",
    "        insert_word = words.insert(n,inserted_word)\n",
    "        modified_string = ' '.join(words)\n",
    "        print(\"original string:\",string)\n",
    "        print( \"modified string:\", modified_string) \n",
    "        print( \"inserted word:\", inserted_word)\n",
    "    else:\n",
    "        return None, None"
   ]
  },
  {
   "cell_type": "code",
   "execution_count": 31,
   "id": "b9282af6-4283-40f4-bae2-c64ef8a0e981",
   "metadata": {},
   "outputs": [
    {
     "name": "stdout",
     "output_type": "stream",
     "text": [
      "original string: hello world\n",
      "modified string: hello real world\n",
      "inserted word: real\n"
     ]
    }
   ],
   "source": [
    "insert_nth_word(\"hello world\",'real',1)"
   ]
  },
  {
   "cell_type": "code",
   "execution_count": 47,
   "id": "af10539e-c6ca-4436-8467-d0eb48cad651",
   "metadata": {},
   "outputs": [],
   "source": [
    "#50 Convert csv string to list\n",
    "def csv_string_to_list(csv_string):\n",
    "    lines = csv_string.split()\n",
    "    result = []\n",
    "    for line in lines:\n",
    "        fields = line.split(',')\n",
    "        result.append(fields)\n",
    "    return result"
   ]
  },
  {
   "cell_type": "code",
   "execution_count": 49,
   "id": "d3b36292-810d-4946-8286-5dd78ca229a0",
   "metadata": {},
   "outputs": [
    {
     "data": {
      "text/plain": [
       "[['Name', 'Age', 'Job', 'Salary', 'Rohit', '26', 'IT', '12lac']]"
      ]
     },
     "execution_count": 49,
     "metadata": {},
     "output_type": "execute_result"
    }
   ],
   "source": [
    "csv_string_to_list(\"Name,Age,Job,Salary,Rohit,26,IT,12lac\")"
   ]
  },
  {
   "cell_type": "code",
   "execution_count": 53,
   "id": "25fc41c6-8a39-4bd4-897b-f472969d9a81",
   "metadata": {},
   "outputs": [
    {
     "name": "stdout",
     "output_type": "stream",
     "text": [
      "[1, 2, 3, 4, 5, 6, 7, 8, 9, 10]\n"
     ]
    }
   ],
   "source": [
    "#  LIST BASED PRACTICE PROBLEMS\n",
    "#1 List with integers 1 to 10\n",
    "integer_list = [i for i in range(1,11)] \n",
    "print(integer_list)"
   ]
  },
  {
   "cell_type": "code",
   "execution_count": 54,
   "id": "89a15278-1ae0-42c6-90c9-13a34db4fb20",
   "metadata": {},
   "outputs": [],
   "source": [
    "#2 Length of a list without using len function\n",
    "def length_list(input_list):\n",
    "    count =0\n",
    "    for i in input_list:\n",
    "        count +=1\n",
    "    return count"
   ]
  },
  {
   "cell_type": "code",
   "execution_count": 56,
   "id": "70c199d8-eeb0-4f1c-90c1-eb7a4edd088e",
   "metadata": {},
   "outputs": [
    {
     "data": {
      "text/plain": [
       "8"
      ]
     },
     "execution_count": 56,
     "metadata": {},
     "output_type": "execute_result"
    }
   ],
   "source": [
    "length_list([1,2,3,4,5,6,8,0])"
   ]
  },
  {
   "cell_type": "code",
   "execution_count": 74,
   "id": "56c5a7c3-3945-4210-b42c-85b27c906ca8",
   "metadata": {},
   "outputs": [
    {
     "name": "stdout",
     "output_type": "stream",
     "text": [
      "[10, 20, 30, 40]\n"
     ]
    }
   ],
   "source": [
    "#3 Append a element in a list\n",
    "input_list = [10,20,30]\n",
    "add_list = 40\n",
    "input_list.append(add_list)\n",
    "print(input_list)"
   ]
  },
  {
   "cell_type": "code",
   "execution_count": 4,
   "id": "ec4abf2b-42f6-412b-8e02-11b41a28b226",
   "metadata": {},
   "outputs": [
    {
     "name": "stdout",
     "output_type": "stream",
     "text": [
      "updated list: [10, 20, 40, 30]\n"
     ]
    }
   ],
   "source": [
    "#4 Insert an element at indices\n",
    "input_list = [10,20,30]\n",
    "add_list = 40\n",
    "input_list.insert(2,add_list)\n",
    "print(\"updated list:\",input_list)"
   ]
  },
  {
   "cell_type": "code",
   "execution_count": 5,
   "id": "9865a731-b6bb-43c7-8370-50bd2bc4a2f0",
   "metadata": {},
   "outputs": [
    {
     "name": "stdout",
     "output_type": "stream",
     "text": [
      "updated list: [10, 20, 30, 50]\n"
     ]
    }
   ],
   "source": [
    "#5 Remove an element by its value\n",
    "input_list = [10,20,30,40,50]\n",
    "remove_list = 40\n",
    "input_list.remove(remove_list)\n",
    "print(\"updated list:\",input_list)"
   ]
  },
  {
   "cell_type": "code",
   "execution_count": 6,
   "id": "7ff7e176-948b-42fc-88cb-7b9bb39f3456",
   "metadata": {},
   "outputs": [
    {
     "name": "stdout",
     "output_type": "stream",
     "text": [
      "updated list: [10, 20, 30, 50]\n"
     ]
    }
   ],
   "source": [
    "#6 Remove an element by its index number\n",
    "input_list = [10,20,30,40,50]\n",
    "remove_list = 40\n",
    "input_list.pop(3)\n",
    "print(\"updated list:\",input_list)"
   ]
  },
  {
   "cell_type": "code",
   "execution_count": 22,
   "id": "6aaeeae9-85e8-4404-868c-6938f26e97a5",
   "metadata": {},
   "outputs": [
    {
     "name": "stdin",
     "output_type": "stream",
     "text": [
      "enter the list [1,2,4,5,6,7,8]\n",
      "enter the number to check 9\n"
     ]
    },
    {
     "name": "stdout",
     "output_type": "stream",
     "text": [
      "False\n"
     ]
    }
   ],
   "source": [
    "#7 Check if an elemnet exist in a list\n",
    "my_list =(input(\"enter the list\"))\n",
    "n = input(\"enter the number to check\")\n",
    "if n in my_list:\n",
    "    print(True)\n",
    "else:\n",
    "    print(False)"
   ]
  },
  {
   "cell_type": "code",
   "execution_count": 26,
   "id": "3bb4ee80-5bd6-4247-81c2-70712e9be071",
   "metadata": {},
   "outputs": [
    {
     "name": "stdout",
     "output_type": "stream",
     "text": [
      "index of number: 4\n"
     ]
    }
   ],
   "source": [
    "#8 Index of the first element\n",
    "my_list =[1,2,3,4,5,6,7]\n",
    "n = 5\n",
    "index = my_list.index(n)\n",
    "print(\"index of number:\",index)"
   ]
  },
  {
   "cell_type": "code",
   "execution_count": 31,
   "id": "302a579c-a26c-4907-8a66-91beb1724690",
   "metadata": {},
   "outputs": [
    {
     "name": "stdout",
     "output_type": "stream",
     "text": [
      "count of number 3 is 4\n"
     ]
    }
   ],
   "source": [
    "#9 count of an occurance\n",
    "my_list =[1,2,3,3,3,3,4,4,5,6,7]\n",
    "n = 3\n",
    "count = my_list.count(n)\n",
    "print(\"count of number\",n,'is',count)"
   ]
  },
  {
   "cell_type": "code",
   "execution_count": 32,
   "id": "0ec517c6-5b05-4497-be1a-91d0e4be74f6",
   "metadata": {},
   "outputs": [
    {
     "name": "stdout",
     "output_type": "stream",
     "text": [
      "Reversed list: [50, 40, 30, 20, 10]\n"
     ]
    }
   ],
   "source": [
    "#10 Reverse the list\n",
    "my_list = [10, 20, 30, 40, 50]\n",
    "my_list.reverse()\n",
    "print(\"Reversed list:\", my_list)"
   ]
  },
  {
   "cell_type": "code",
   "execution_count": 33,
   "id": "ed4c40b7-0d0c-4916-b332-4cd806ed0bab",
   "metadata": {},
   "outputs": [
    {
     "name": "stdout",
     "output_type": "stream",
     "text": [
      "Sorted list in ascending order: [1, 2, 3, 4, 5, 7]\n"
     ]
    }
   ],
   "source": [
    "#11 Sorting in ascending order\n",
    "my_list = [5, 1, 3, 4, 2,7]\n",
    "my_list.sort()\n",
    "print(\"Sorted list in ascending order:\", my_list)"
   ]
  },
  {
   "cell_type": "code",
   "execution_count": 34,
   "id": "9f78c3ef-dff9-4d10-a9c6-7fed6c464650",
   "metadata": {},
   "outputs": [
    {
     "name": "stdout",
     "output_type": "stream",
     "text": [
      "Sorted list in descending order: [7, 5, 4, 3, 2, 1]\n"
     ]
    }
   ],
   "source": [
    "#12 Sorting in descending order\n",
    "my_list = [5, 1, 3, 4, 2,7]\n",
    "my_list.sort(reverse = True)\n",
    "print(\"Sorted list in descending order:\", my_list)"
   ]
  },
  {
   "cell_type": "code",
   "execution_count": 35,
   "id": "64397517-2cbb-4145-9a35-ab8e83a04869",
   "metadata": {},
   "outputs": [
    {
     "name": "stdout",
     "output_type": "stream",
     "text": [
      "[2, 4, 6, 8, 10, 12, 14, 16, 18, 20]\n"
     ]
    }
   ],
   "source": [
    "#13 List of even numbers from 1 t0 20\n",
    "even_number = [i for i in range(2,21,2)]\n",
    "print(even_number)"
   ]
  },
  {
   "cell_type": "code",
   "execution_count": 36,
   "id": "a43f241c-b746-4dda-9177-3c8ec0c1c420",
   "metadata": {},
   "outputs": [
    {
     "name": "stdout",
     "output_type": "stream",
     "text": [
      "[1, 3, 5, 7, 9, 11, 13, 15, 17, 19]\n"
     ]
    }
   ],
   "source": [
    "#14 List of odd numbers from 1 to 20\n",
    "odd_number = [i for i in range(1,20,2)]\n",
    "print(odd_number)"
   ]
  },
  {
   "cell_type": "code",
   "execution_count": 38,
   "id": "416b4dd6-21c3-4873-8c21-83915061908f",
   "metadata": {},
   "outputs": [
    {
     "name": "stdout",
     "output_type": "stream",
     "text": [
      "Sum of elements: 210\n"
     ]
    }
   ],
   "source": [
    "#15 sum of all elements in list\n",
    "my_list = [10, 20, 30, 40, 50,60]\n",
    "add = sum(my_list)\n",
    "print(\"Sum of elements:\", add)"
   ]
  },
  {
   "cell_type": "code",
   "execution_count": 39,
   "id": "d133ab3c-8581-4a0c-8ca1-83f3342aef4c",
   "metadata": {},
   "outputs": [
    {
     "name": "stdout",
     "output_type": "stream",
     "text": [
      "Maximum value: 60\n"
     ]
    }
   ],
   "source": [
    "#16 Max value in a list\n",
    "my_list = [10, 20, 30, 40, 50,60]\n",
    "max_value = max(my_list)\n",
    "print(\"Maximum value:\", max_value)"
   ]
  },
  {
   "cell_type": "code",
   "execution_count": 40,
   "id": "ed23401b-8b1f-4aba-ac43-27685768556d",
   "metadata": {},
   "outputs": [
    {
     "name": "stdout",
     "output_type": "stream",
     "text": [
      "Minimum value: 10\n"
     ]
    }
   ],
   "source": [
    "#17 Min value in a list\n",
    "my_list = [10, 20, 30, 40, 50,60]\n",
    "min_value = min(my_list)\n",
    "print(\"Minimum value:\", min_value)"
   ]
  },
  {
   "cell_type": "code",
   "execution_count": 50,
   "id": "c00443c1-038a-4697-a8eb-d4c0d55e9bb7",
   "metadata": {},
   "outputs": [
    {
     "name": "stdout",
     "output_type": "stream",
     "text": [
      "[1, 4, 9, 16, 25, 36, 49, 64, 81]\n"
     ]
    }
   ],
   "source": [
    "#18 list of squares from 1 to 10\n",
    "square = [x**2 for x in range(1,10)]\n",
    "print(square)"
   ]
  },
  {
   "cell_type": "code",
   "execution_count": 52,
   "id": "7ec6cf61-26eb-4bde-9a44-37425c50a005",
   "metadata": {},
   "outputs": [
    {
     "name": "stdout",
     "output_type": "stream",
     "text": [
      "List of random integers: [9, 84, 80, 26, 42]\n"
     ]
    }
   ],
   "source": [
    "#19 Random numbers\n",
    "import random\n",
    "random_integers = [random.randint(1, 100) for i in range(5)]\n",
    "print(\"List of random integers:\", random_integers)"
   ]
  },
  {
   "cell_type": "code",
   "execution_count": 54,
   "id": "c20be47f-4a33-4918-bb99-8505fac64293",
   "metadata": {},
   "outputs": [
    {
     "name": "stdout",
     "output_type": "stream",
     "text": [
      "[1, 2, 3, 4, 5, 6, 7]\n"
     ]
    }
   ],
   "source": [
    "#20 Remove duplicates from a list\n",
    "my_list =[1,2,3,3,3,3,4,4,5,6,7]\n",
    "new_list = list(set(my_list))\n",
    "print(new_list)"
   ]
  },
  {
   "cell_type": "code",
   "execution_count": 59,
   "id": "c369e7f2-3f94-49b7-a986-01054c029e57",
   "metadata": {},
   "outputs": [],
   "source": [
    "#21 Common member in list\n",
    "def common_mem(a,b):\n",
    "    result = [i for i in a if i in b]\n",
    "    return result"
   ]
  },
  {
   "cell_type": "code",
   "execution_count": 60,
   "id": "7e2c8da3-4c13-4733-be92-59666577210d",
   "metadata": {},
   "outputs": [
    {
     "data": {
      "text/plain": [
       "[3, 4]"
      ]
     },
     "execution_count": 60,
     "metadata": {},
     "output_type": "execute_result"
    }
   ],
   "source": [
    "common_mem([1,2,3,4],[3,4,5,6])"
   ]
  },
  {
   "cell_type": "code",
   "execution_count": 64,
   "id": "805d54ab-bce3-4950-8449-9802c43def82",
   "metadata": {},
   "outputs": [
    {
     "name": "stdout",
     "output_type": "stream",
     "text": [
      "Difference of list [2, 3]\n"
     ]
    }
   ],
   "source": [
    "#22 Difference in two list\n",
    "list1 = [2,3,4,5]\n",
    "list2 = [6,7,4,5]\n",
    "differ = list(set(list1).difference(list2))\n",
    "print(\"Difference of list\",differ)"
   ]
  },
  {
   "cell_type": "code",
   "execution_count": 65,
   "id": "78b4f748-4019-4ef2-a390-b65319687c6c",
   "metadata": {},
   "outputs": [
    {
     "name": "stdout",
     "output_type": "stream",
     "text": [
      "Merged list: [10, 20, 30, 40, 50, 60]\n"
     ]
    }
   ],
   "source": [
    "#23 Merge of two list\n",
    "list1 = [10, 20, 30]\n",
    "list2 = [40, 50, 60]\n",
    "merged_list = list1 + list2\n",
    "print(\"Merged list:\", merged_list)"
   ]
  },
  {
   "cell_type": "code",
   "execution_count": 68,
   "id": "9591ba61-6ce9-4212-8e8d-840baeea7664",
   "metadata": {},
   "outputs": [
    {
     "name": "stdout",
     "output_type": "stream",
     "text": [
      "New_list [2, 4, 6, 8, 10]\n"
     ]
    }
   ],
   "source": [
    "#24 Multiply the list by 2\n",
    "list1 = [1,2,3,4,5]\n",
    "new_list = [x*2 for x in list1]\n",
    "print(\"New_list\",new_list)"
   ]
  },
  {
   "cell_type": "code",
   "execution_count": 77,
   "id": "29f809ec-2567-4e0e-b495-291e20e8e9cc",
   "metadata": {},
   "outputs": [
    {
     "name": "stdout",
     "output_type": "stream",
     "text": [
      "[2, 4]\n"
     ]
    }
   ],
   "source": [
    "#25 Numbers divisible by 2 in a list\n",
    "list1 = [1,2,3,4,5]\n",
    "new_list = [x for x in list1 if x%2 == 0]\n",
    "print(new_list)"
   ]
  },
  {
   "cell_type": "code",
   "execution_count": 78,
   "id": "a006fc63-6876-4930-99e0-90c0885f7f9e",
   "metadata": {},
   "outputs": [
    {
     "name": "stdout",
     "output_type": "stream",
     "text": [
      "List of integers: [1, 2, 4, 5]\n"
     ]
    }
   ],
   "source": [
    "#26 Convert list of string into intergers\n",
    "string_list = [\"1\", \"2\", \"4\", \"5\"]\n",
    "integer_list = [int(x) for x in string_list]\n",
    "print(\"List of integers:\", integer_list)"
   ]
  },
  {
   "cell_type": "code",
   "execution_count": 80,
   "id": "7a204db5-be23-4125-a6f9-87ba26926527",
   "metadata": {},
   "outputs": [
    {
     "name": "stdout",
     "output_type": "stream",
     "text": [
      "List of string ['1', '2', '4', '5']\n"
     ]
    }
   ],
   "source": [
    "#27 Convert list of string into intergers\n",
    "integer_list = [1, 2, 4, 5]\n",
    "string_list = [str(x) for x in integer_list]\n",
    "print(\"List of string\", string_list)"
   ]
  },
  {
   "cell_type": "code",
   "execution_count": 82,
   "id": "8f1252b3-b709-43ca-9b92-e2cb0ab039bf",
   "metadata": {},
   "outputs": [],
   "source": [
    "#28 Flatten a nested list\n",
    "def flatten_list(nested):\n",
    "    flattened = []\n",
    "    for sublist in nested:\n",
    "        if isinstance(sublist, list):\n",
    "            flattened.extend(flatten_list(sublist))\n",
    "        else:\n",
    "            flattened.append(sublist)\n",
    "    return flattened"
   ]
  },
  {
   "cell_type": "code",
   "execution_count": 83,
   "id": "3d7ca276-359f-40b6-8625-877a74e6301e",
   "metadata": {},
   "outputs": [
    {
     "data": {
      "text/plain": [
       "[1, 2, 3, 4, 5, 6, 7, 8, 9]"
      ]
     },
     "execution_count": 83,
     "metadata": {},
     "output_type": "execute_result"
    }
   ],
   "source": [
    "flatten_list([[1,2,3],[4,5,6],[7,8,9]])"
   ]
  },
  {
   "cell_type": "code",
   "execution_count": 84,
   "id": "455e267a-06bf-43f0-8205-96bc561b2565",
   "metadata": {},
   "outputs": [],
   "source": [
    "#29 Fibonacci series\n",
    "def generate_fibonacci(n):\n",
    "    fibonacci_list = [0, 1] \n",
    "    for i in range(2, n):\n",
    "        next_fibonacci = fibonacci_list[i - 1] + fibonacci_list[i - 2]\n",
    "        fibonacci_list.append(next_fibonacci)\n",
    "    return fibonacci_list"
   ]
  },
  {
   "cell_type": "code",
   "execution_count": 85,
   "id": "0fd39123-43b5-48a7-a511-dbce900cf1ac",
   "metadata": {},
   "outputs": [
    {
     "data": {
      "text/plain": [
       "[0, 1, 1, 2, 3, 5, 8, 13, 21, 34]"
      ]
     },
     "execution_count": 85,
     "metadata": {},
     "output_type": "execute_result"
    }
   ],
   "source": [
    "generate_fibonacci(10)"
   ]
  },
  {
   "cell_type": "code",
   "execution_count": 108,
   "id": "481e2abd-a74d-40e4-9db3-a024412d2ffd",
   "metadata": {},
   "outputs": [],
   "source": [
    "#30 Check if a list is sorted\n",
    "def sorted_list(lst):\n",
    "    for i in range(1,len(lst)):\n",
    "        if lst[i] < lst[i-1]:\n",
    "            return False \n",
    "    return True"
   ]
  },
  {
   "cell_type": "code",
   "execution_count": 109,
   "id": "c7b7d52a-cabf-41a2-8bd3-5593ae9c3f1e",
   "metadata": {},
   "outputs": [
    {
     "data": {
      "text/plain": [
       "False"
      ]
     },
     "execution_count": 109,
     "metadata": {},
     "output_type": "execute_result"
    }
   ],
   "source": [
    "sorted_list([1,2,7,3])"
   ]
  },
  {
   "cell_type": "code",
   "execution_count": 1,
   "id": "c081a805-12c1-47aa-bd25-a87596187276",
   "metadata": {},
   "outputs": [],
   "source": [
    "#31 Rotate the list left through n position\n",
    "def rotate_left(lst, n):\n",
    "    n = n % len(lst) \n",
    "    rotated = lst[n:] + lst[:n]\n",
    "    return rotated"
   ]
  },
  {
   "cell_type": "code",
   "execution_count": 10,
   "id": "1ce75e87-9463-4507-a2ce-12267364f441",
   "metadata": {},
   "outputs": [
    {
     "data": {
      "text/plain": [
       "[6, 7, 8, 9, 4, 5]"
      ]
     },
     "execution_count": 10,
     "metadata": {},
     "output_type": "execute_result"
    }
   ],
   "source": [
    "rotate_left([4,5,6,7,8,9],2)"
   ]
  },
  {
   "cell_type": "code",
   "execution_count": 7,
   "id": "65d15e23-1815-4018-b2d9-414cd7074fcf",
   "metadata": {},
   "outputs": [],
   "source": [
    "#32 Rotate the list right through n position\n",
    "def rotate_right(lst, n):\n",
    "    n = n % len(lst)\n",
    "    rotated = lst[-n:] + lst[:-n]\n",
    "    return rotated"
   ]
  },
  {
   "cell_type": "code",
   "execution_count": 9,
   "id": "571dd30f-b98e-4ed6-aac7-c7889303eef1",
   "metadata": {},
   "outputs": [
    {
     "data": {
      "text/plain": [
       "[7, 8, 3, 4, 5, 6]"
      ]
     },
     "execution_count": 9,
     "metadata": {},
     "output_type": "execute_result"
    }
   ],
   "source": [
    "rotate_right([3,4,5,6,7,8],2)"
   ]
  },
  {
   "cell_type": "code",
   "execution_count": 27,
   "id": "f98c1f5c-446b-4b49-80f8-7630444058a2",
   "metadata": {},
   "outputs": [],
   "source": [
    "#33 Create the list of prime from 1 to 50\n",
    "def prime_number(limit):\n",
    "    primes = []\n",
    "    is_prime = [True] * (limit + 1)\n",
    "    is_prime[0] = is_prime[1] = False\n",
    "    for num in range(2, int(limit ** 0.5) + 1):\n",
    "        if is_prime[num]:\n",
    "            primes.append(num)\n",
    "            for multiple in range(num * num, limit + 1, num):\n",
    "                is_prime[multiple] = False\n",
    "    for num in range(int(limit ** 0.5) + 1, limit + 1):\n",
    "        if is_prime[num]:\n",
    "            primes.append(num)\n",
    "    return primes"
   ]
  },
  {
   "cell_type": "code",
   "execution_count": 28,
   "id": "1d303a9b-8693-441e-9453-6921246c3491",
   "metadata": {},
   "outputs": [
    {
     "data": {
      "text/plain": [
       "[2, 3, 5, 7, 11, 13, 17, 19, 23, 29, 31, 37, 41, 43, 47]"
      ]
     },
     "execution_count": 28,
     "metadata": {},
     "output_type": "execute_result"
    }
   ],
   "source": [
    "prime_number(50)"
   ]
  },
  {
   "cell_type": "code",
   "execution_count": 29,
   "id": "0540db29-41b1-4a72-9607-4907d2b1e7fb",
   "metadata": {},
   "outputs": [
    {
     "name": "stdout",
     "output_type": "stream",
     "text": [
      "[1, 2, 3]\n",
      "[4, 5, 6]\n",
      "[7, 8, 9]\n"
     ]
    }
   ],
   "source": [
    "#34 list of chunks of size n\n",
    "my_list = [1, 2, 3, 4, 5, 6, 7, 8, 9] \n",
    "start = 0\n",
    "end = len(my_list) \n",
    "step = 3\n",
    "for i in range(start, end, step): \n",
    "    x = i \n",
    "    print(my_list[x:x+step])"
   ]
  },
  {
   "cell_type": "code",
   "execution_count": 1,
   "id": "412ab4fc-4395-4bdc-b8e6-87be3a485989",
   "metadata": {},
   "outputs": [
    {
     "name": "stdout",
     "output_type": "stream",
     "text": [
      "Second largest number: 6\n"
     ]
    }
   ],
   "source": [
    "#35 Second largest number in a list\n",
    "my_list = [1, 5, 2, 3, 6, 8]\n",
    "sorted_list = sorted(set(my_list))\n",
    "if len(sorted_list) >= 2:\n",
    "    second_largest = sorted_list[-2]\n",
    "    print(\"Second largest number:\", second_largest)\n",
    "else:\n",
    "    print(\"The list does not contain enough elements.\")"
   ]
  },
  {
   "cell_type": "code",
   "execution_count": 2,
   "id": "bb5a07aa-c16d-4f72-af22-a562d5e8237b",
   "metadata": {},
   "outputs": [
    {
     "name": "stdout",
     "output_type": "stream",
     "text": [
      "Squared list [4, 9, 16, 25, 36]\n"
     ]
    }
   ],
   "source": [
    "#36 Replace element with a square\n",
    "my_list = [2,3,4,5,6]\n",
    "new_list = [x**2 for x in my_list]\n",
    "print(\"Squared list\",new_list)"
   ]
  },
  {
   "cell_type": "code",
   "execution_count": 3,
   "id": "c4e4cbf0-910e-4394-af06-3daea89167c4",
   "metadata": {},
   "outputs": [
    {
     "name": "stdout",
     "output_type": "stream",
     "text": [
      "Converted dictionary: {'apple': 0, 'banana': 1, 'mango': 2, 'guava': 3, 'strawberry': 4}\n"
     ]
    }
   ],
   "source": [
    "#37 List into dictionary\n",
    "my_list = ['apple', 'banana', 'mango', 'guava', 'strawberry']\n",
    "diction = {element: index for index, element in enumerate(my_list)}\n",
    "print(\"Converted dictionary:\",diction)"
   ]
  },
  {
   "cell_type": "code",
   "execution_count": 4,
   "id": "23e4cae6-286c-4808-970f-282b296db8f8",
   "metadata": {},
   "outputs": [
    {
     "name": "stdout",
     "output_type": "stream",
     "text": [
      "Shuffled list: [2, 4, 1, 3, 5, 6]\n"
     ]
    }
   ],
   "source": [
    "#38 Shuffle the list randomly\n",
    "import random\n",
    "my_list = [1, 2, 3, 4, 5, 6]\n",
    "random.shuffle(my_list)\n",
    "print(\"Shuffled list:\", my_list)"
   ]
  },
  {
   "cell_type": "code",
   "execution_count": 7,
   "id": "3f5b8a52-fc2a-4163-976d-051039a867b5",
   "metadata": {},
   "outputs": [
    {
     "name": "stdout",
     "output_type": "stream",
     "text": [
      "factorial list [1, 1, 2, 6, 24, 120, 720, 5040, 40320, 362880]\n"
     ]
    }
   ],
   "source": [
    "#39 List of first 10 factorial\n",
    "def factorial(n):\n",
    "    if n == 0 or n == 1:\n",
    "        return 1\n",
    "    else:\n",
    "        return n * factorial(n - 1)\n",
    "factorial_list = [factorial(i) for i in range(10)]\n",
    "print(\"factorial list\",factorial_list)"
   ]
  },
  {
   "cell_type": "code",
   "execution_count": 10,
   "id": "53f665c0-53f3-4d85-92cd-22d5418aa21d",
   "metadata": {},
   "outputs": [],
   "source": [
    "#40 Atleast one item common in list\n",
    "def common_item(list1,list2):\n",
    "    for i in list1:\n",
    "        if i in list2:\n",
    "            return True\n",
    "    return False"
   ]
  },
  {
   "cell_type": "code",
   "execution_count": 11,
   "id": "ffc852fa-4c54-427f-8742-dfc6c7e0ded7",
   "metadata": {},
   "outputs": [
    {
     "data": {
      "text/plain": [
       "True"
      ]
     },
     "execution_count": 11,
     "metadata": {},
     "output_type": "execute_result"
    }
   ],
   "source": [
    "common_item([2,3,4,5],[5,6,7,8])"
   ]
  },
  {
   "cell_type": "code",
   "execution_count": 12,
   "id": "001a5b6a-1f05-4731-b7d7-208c55785269",
   "metadata": {},
   "outputs": [
    {
     "name": "stdout",
     "output_type": "stream",
     "text": [
      "clear list []\n"
     ]
    }
   ],
   "source": [
    "#41 Remove all elements from a list\n",
    "my_list = [2,3,4,5,6]\n",
    "my_list.clear()\n",
    "print(\"clear list\",my_list)"
   ]
  },
  {
   "cell_type": "code",
   "execution_count": 21,
   "id": "1c21e188-affa-4f7e-b663-2209816d2c06",
   "metadata": {},
   "outputs": [
    {
     "name": "stdout",
     "output_type": "stream",
     "text": [
      "[1, 2, 3, 4, 0, 0, 0]\n"
     ]
    }
   ],
   "source": [
    "#42 Replace negative no with 0 in a list\n",
    "my_list = [1,2,3,4,-4,-5,-7]\n",
    "for i in range(len(my_list)):\n",
    "    if my_list[i] < 0:\n",
    "        my_list[i] = 0\n",
    "print(my_list)"
   ]
  },
  {
   "cell_type": "code",
   "execution_count": 24,
   "id": "5c185cb5-9d0a-4c7d-867d-bfc2f54464ef",
   "metadata": {},
   "outputs": [
    {
     "name": "stdout",
     "output_type": "stream",
     "text": [
      "List of words: ['Hello', 'world', 'how', 'are', 'you']\n"
     ]
    }
   ],
   "source": [
    "#43 String into list of words\n",
    "my_string = \"Hello world how are you\"\n",
    "word_list = my_string.split()\n",
    "print(\"List of words:\", word_list)"
   ]
  },
  {
   "cell_type": "code",
   "execution_count": 26,
   "id": "77558bc6-2678-4c88-9ab3-dd9bb080aca1",
   "metadata": {},
   "outputs": [
    {
     "name": "stdout",
     "output_type": "stream",
     "text": [
      "String: Hello world how are you\n"
     ]
    }
   ],
   "source": [
    "#44 words into string\n",
    "words = ['Hello', 'world', 'how', 'are', 'you']\n",
    "string= \" \".join(words)\n",
    "print(\"String:\",string)"
   ]
  },
  {
   "cell_type": "code",
   "execution_count": 27,
   "id": "8487c81a-53ff-46bf-a593-fca660553638",
   "metadata": {},
   "outputs": [
    {
     "name": "stdout",
     "output_type": "stream",
     "text": [
      "[1, 2, 4, 8, 16, 32]\n"
     ]
    }
   ],
   "source": [
    "#45 create first n power of 2\n",
    "n = 6\n",
    "power_list =[2**i for i in range(n)]\n",
    "print(power_list)"
   ]
  },
  {
   "cell_type": "code",
   "execution_count": 34,
   "id": "dadae12b-51be-4f43-9668-469d71e23244",
   "metadata": {},
   "outputs": [
    {
     "name": "stdout",
     "output_type": "stream",
     "text": [
      "Longest string: strawberry\n"
     ]
    }
   ],
   "source": [
    "#46 Longest string in a list\n",
    "string_list = [\"apple\", \"banana\", \"cherry\", \"date\", \"strawberry\"]\n",
    "longest_string = \"\"\n",
    "for x in string_list:\n",
    "    if len(x) > len(longest_string):\n",
    "        longest_string = x\n",
    "print(\"Longest string:\", longest_string)"
   ]
  },
  {
   "cell_type": "code",
   "execution_count": 35,
   "id": "df2e9820-8325-46cc-bcad-7cec2318adaf",
   "metadata": {},
   "outputs": [
    {
     "name": "stdout",
     "output_type": "stream",
     "text": [
      "Shortest string: date\n"
     ]
    }
   ],
   "source": [
    "#47 Shortest string in a list\n",
    "string_list = [\"apple\", \"banana\", \"cherry\", \"date\", \"strawberry\"]\n",
    "shortest_string = string_list[0]\n",
    "for s in string_list:\n",
    "    if len(s) < len(shortest_string):\n",
    "        shortest_string = s\n",
    "print(\"Shortest string:\", shortest_string)"
   ]
  },
  {
   "cell_type": "code",
   "execution_count": 36,
   "id": "cb428765-cb6c-4a15-ae4a-a3cc5a52123d",
   "metadata": {},
   "outputs": [],
   "source": [
    "#48 Triangular numbers\n",
    "def triangular_numbers(n):\n",
    "    return [i*(i+1)//2 for i in range(1,n+1)]"
   ]
  },
  {
   "cell_type": "code",
   "execution_count": 37,
   "id": "97de4f75-c2af-4ea9-912c-11fa50ded22c",
   "metadata": {},
   "outputs": [
    {
     "data": {
      "text/plain": [
       "[1, 3, 6, 10, 15, 21]"
      ]
     },
     "execution_count": 37,
     "metadata": {},
     "output_type": "execute_result"
    }
   ],
   "source": [
    "triangular_numbers(6)"
   ]
  },
  {
   "cell_type": "code",
   "execution_count": 39,
   "id": "0f7e0b82-65d5-491c-9e78-bde7ecc06dd4",
   "metadata": {},
   "outputs": [],
   "source": [
    "#49 Subsequence list into main list\n",
    "def check_subsequence(subsequence, main_list):\n",
    "    subseq_index = 0 \n",
    "    for element in main_list:\n",
    "        if element == subsequence[subseq_index]:\n",
    "            subseq_index += 1\n",
    "            if subseq_index == len(subsequence):\n",
    "                return True\n",
    "    return False"
   ]
  },
  {
   "cell_type": "code",
   "execution_count": 40,
   "id": "daa727ec-f268-47fa-9b21-48e128ec1f69",
   "metadata": {},
   "outputs": [
    {
     "data": {
      "text/plain": [
       "True"
      ]
     },
     "execution_count": 40,
     "metadata": {},
     "output_type": "execute_result"
    }
   ],
   "source": [
    "check_subsequence([3,4],[1,2,3,4,5,6])"
   ]
  },
  {
   "cell_type": "code",
   "execution_count": 42,
   "id": "e5a49d8b-8ab3-45c8-81ab-e5f97275f264",
   "metadata": {},
   "outputs": [
    {
     "name": "stdout",
     "output_type": "stream",
     "text": [
      "swap list [1, 3, 2, 4, 5, 6]\n"
     ]
    }
   ],
   "source": [
    "#50 Swap list by indices\n",
    "my_list =[1,2,3,4,5,6]\n",
    "x = my_list[1]\n",
    "my_list[1] = my_list[2]\n",
    "my_list[2] = x\n",
    "print(\"swap list\",my_list)"
   ]
  },
  {
   "cell_type": "code",
   "execution_count": 45,
   "id": "8029b13c-8f99-4135-bf07-817031eab2ba",
   "metadata": {},
   "outputs": [
    {
     "name": "stdout",
     "output_type": "stream",
     "text": [
      "(1, 2, 3, 4, 5)\n"
     ]
    }
   ],
   "source": [
    "# Tuple based problems\n",
    "#1 Creating a tuple with 1 to 5\n",
    "x = [1,2,3,4,5]\n",
    "my_tuple =tuple(x)\n",
    "print(my_tuple)"
   ]
  },
  {
   "cell_type": "code",
   "execution_count": 48,
   "id": "1640d88e-dd0e-4bfc-94fd-7930c7d9ca15",
   "metadata": {},
   "outputs": [
    {
     "name": "stdout",
     "output_type": "stream",
     "text": [
      "3rd Element is 3\n"
     ]
    }
   ],
   "source": [
    "#2 Access the third element of a tuple\n",
    "my_tuple = (1,2,3,4,5,6)\n",
    "third_element = my_tuple[2]\n",
    "print(\"3rd Element is\",third_element)"
   ]
  },
  {
   "cell_type": "code",
   "execution_count": 51,
   "id": "0fb4425e-c262-4b38-9cd0-07b27af13e94",
   "metadata": {},
   "outputs": [
    {
     "name": "stdout",
     "output_type": "stream",
     "text": [
      "length of tuple 6\n"
     ]
    }
   ],
   "source": [
    "#3 length of a tuple without len\n",
    "my_tuple =(1,2,3,4,5,7)\n",
    "count = 0\n",
    "for i in my_tuple:\n",
    "    count+=1\n",
    "print(\"length of tuple\",count)"
   ]
  },
  {
   "cell_type": "code",
   "execution_count": 57,
   "id": "2dc7ccf9-6b9a-4d0e-ab09-3a4d93745377",
   "metadata": {},
   "outputs": [
    {
     "name": "stdout",
     "output_type": "stream",
     "text": [
      "no of times element repeated 3\n"
     ]
    }
   ],
   "source": [
    "#4 Occurance of an element in a tuple\n",
    "my_tuple =(1,2,2,2,3,3,4,5,7)\n",
    "element = 2\n",
    "count =0\n",
    "for i in my_tuple:\n",
    "    if i == element:\n",
    "        count+=1\n",
    "print(\"no of times element repeated\",count )"
   ]
  },
  {
   "cell_type": "code",
   "execution_count": 3,
   "id": "5cac8954-877d-4c56-9400-8b8ede0556b5",
   "metadata": {},
   "outputs": [
    {
     "name": "stdout",
     "output_type": "stream",
     "text": [
      "The element 20 occur at index 1\n"
     ]
    }
   ],
   "source": [
    "#5 Index of first occurance of an element\n",
    "my_tuple = (10, 20, 30, 20, 40, 50)\n",
    "element = 20\n",
    "index = -1 \n",
    "for i, item in enumerate(my_tuple):\n",
    "    if item == element:\n",
    "        index = i\n",
    "        break \n",
    "if index != -1:\n",
    "    print(\"The element\",element, \"occur at index\",index)"
   ]
  },
  {
   "cell_type": "code",
   "execution_count": 6,
   "id": "9bdba86b-0a21-435d-8dff-e0384e8464e9",
   "metadata": {},
   "outputs": [
    {
     "name": "stdout",
     "output_type": "stream",
     "text": [
      "element exist in tuple\n"
     ]
    }
   ],
   "source": [
    "#6 Element exist in a tuple\n",
    "my_tuple =(1,2,2,2,3,3,4,5,7)\n",
    "element = 2\n",
    "if element in my_tuple:\n",
    "    print(\"element exist in tuple\")\n",
    "else:\n",
    "    print(\"element doesnot exist in tuple\")"
   ]
  },
  {
   "cell_type": "code",
   "execution_count": 8,
   "id": "2de1b4bc-bd0d-45c4-912a-0e473edc08ad",
   "metadata": {},
   "outputs": [
    {
     "name": "stdout",
     "output_type": "stream",
     "text": [
      "Tuple (1, 2, 2, 2, 3, 3, 4, 5, 7)\n",
      "List [1, 2, 2, 2, 3, 3, 4, 5, 7]\n"
     ]
    }
   ],
   "source": [
    "#7 Convert a tuple to a list\n",
    "my_tuple =(1,2,2,2,3,3,4,5,7)\n",
    "my_list = list(my_tuple)\n",
    "print(\"Tuple\",my_tuple)\n",
    "print(\"List\",my_list)"
   ]
  },
  {
   "cell_type": "code",
   "execution_count": 10,
   "id": "2ba82815-6ad9-4084-8727-54ab1a1e286c",
   "metadata": {},
   "outputs": [
    {
     "name": "stdout",
     "output_type": "stream",
     "text": [
      "List [1, 2, 2, 2, 3, 3, 4, 5, 7]\n",
      "Tuple (1, 2, 2, 2, 3, 3, 4, 5, 7)\n"
     ]
    }
   ],
   "source": [
    "#8 LIst into tuple\n",
    "my_list =[1,2,2,2,3,3,4,5,7]\n",
    "my_tuple = tuple(my_list)\n",
    "print(\"List\",my_list)\n",
    "print(\"Tuple\",my_tuple)"
   ]
  },
  {
   "cell_type": "code",
   "execution_count": 14,
   "id": "95b4e433-5c17-49e0-ab45-8e7f91d0e7de",
   "metadata": {},
   "outputs": [
    {
     "name": "stdout",
     "output_type": "stream",
     "text": [
      "variable1: 100\n",
      "variable2: 200\n",
      "variable3: 300\n"
     ]
    }
   ],
   "source": [
    "#9 Unpack the elements \n",
    "my_tuple= (100,200,300)\n",
    "var1,var2,var3 = my_tuple\n",
    "print(\"variable1:\",var1)\n",
    "print(\"variable2:\",var2)\n",
    "print(\"variable3:\",var3)"
   ]
  },
  {
   "cell_type": "code",
   "execution_count": 16,
   "id": "bbd06584-b43c-4faa-8adf-d9204afaea15",
   "metadata": {},
   "outputs": [
    {
     "name": "stdout",
     "output_type": "stream",
     "text": [
      "even number from  1 to 10 (2, 4, 6, 8, 10)\n"
     ]
    }
   ],
   "source": [
    "#10 Tuple of even numbers from 1 to 10 \n",
    "even_num = [num for num in range(2,11,2)]\n",
    "in_tuple = tuple(even_num)\n",
    "print(\"even number from  1 to 10\",in_tuple)\n"
   ]
  },
  {
   "cell_type": "code",
   "execution_count": 17,
   "id": "ba04a6ab-1066-43e7-b645-4395934e6599",
   "metadata": {},
   "outputs": [
    {
     "name": "stdout",
     "output_type": "stream",
     "text": [
      "odd number from  1 to 10 (1, 3, 5, 7, 9)\n"
     ]
    }
   ],
   "source": [
    "#11 Odd number from 1 to 10\n",
    "odd_num = [num for num in range(1,10,2)]\n",
    "in_tuple = tuple(odd_num)\n",
    "print(\"odd number from  1 to 10\",in_tuple)"
   ]
  },
  {
   "cell_type": "code",
   "execution_count": 18,
   "id": "72098ed8-cf69-4764-b8c3-a0e49308dd48",
   "metadata": {},
   "outputs": [
    {
     "name": "stdout",
     "output_type": "stream",
     "text": [
      "concatenate tuples (1, 2, 3, 4, 5, 6)\n"
     ]
    }
   ],
   "source": [
    "#12 concatenate two tuples\n",
    "tuple1 = (1,2,3)\n",
    "tuple2 = (4,5,6)\n",
    "concatenate = tuple1 + tuple2\n",
    "print(\"concatenate tuples\",concatenate)\n"
   ]
  },
  {
   "cell_type": "code",
   "execution_count": 19,
   "id": "ba67e8b5-c0cd-49d5-83f2-d10dbe522992",
   "metadata": {},
   "outputs": [
    {
     "name": "stdout",
     "output_type": "stream",
     "text": [
      "repeated tuple (1, 2, 3, 1, 2, 3, 1, 2, 3)\n"
     ]
    }
   ],
   "source": [
    "#13 Repeat a tuple 3 times\n",
    "tuple1 = (1,2,3)\n",
    "repeat_tuple1 = tuple1 *3\n",
    "print(\"repeated tuple\",repeat_tuple1)"
   ]
  },
  {
   "cell_type": "code",
   "execution_count": 20,
   "id": "a8473eb7-84b2-4b47-ad50-902d4ea45a98",
   "metadata": {},
   "outputs": [
    {
     "name": "stdout",
     "output_type": "stream",
     "text": [
      "The empty_tuple is empty.\n",
      "The non_empty_tuple is not empty.\n"
     ]
    }
   ],
   "source": [
    "#14 check an empty or non empty tuple\n",
    "empty_tuple = ()\n",
    "non_empty_tuple = (1, 2, 3)\n",
    "if not empty_tuple:\n",
    "    print(\"The empty_tuple is empty.\")\n",
    "else:\n",
    "    print(\"The empty_tuple is not empty.\")\n",
    "\n",
    "if not non_empty_tuple:\n",
    "    print(\"The non_empty_tuple is empty.\")\n",
    "else:\n",
    "    print(\"The non_empty_tuple is not empty.\")"
   ]
  },
  {
   "cell_type": "code",
   "execution_count": 21,
   "id": "91543b59-7a0e-43e6-a789-783e8460fdff",
   "metadata": {},
   "outputs": [
    {
     "name": "stdout",
     "output_type": "stream",
     "text": [
      "Nested tuple: ((1, 2, 3), ('a', 'b', 'c'), (True, False))\n"
     ]
    }
   ],
   "source": [
    "#15 Create a nested tuple\n",
    "nested_tuple = ((1, 2, 3), ('a', 'b', 'c'), (True, False))\n",
    "print(\"Nested tuple:\", nested_tuple)"
   ]
  },
  {
   "cell_type": "code",
   "execution_count": 23,
   "id": "32d6e96c-e422-4c85-b853-a1f3ff40d091",
   "metadata": {},
   "outputs": [
    {
     "name": "stdout",
     "output_type": "stream",
     "text": [
      "first element of Nested tuple: (1, 2, 3)\n"
     ]
    }
   ],
   "source": [
    "#16 Access the first element of nested tuple\n",
    "nested_tuple = ((1, 2, 3), ('a', 'b', 'c'), (True, False))\n",
    "first_element = nested_tuple[0]\n",
    "print(\"first element of Nested tuple:\", nested_tuple[0])"
   ]
  },
  {
   "cell_type": "code",
   "execution_count": 1,
   "id": "8e08d13f-83dc-481b-9e21-1fcf9ad09a3e",
   "metadata": {},
   "outputs": [
    {
     "name": "stdout",
     "output_type": "stream",
     "text": [
      "(2,)\n"
     ]
    }
   ],
   "source": [
    "#17 Tuple with single element\n",
    "my_tuple =(2,)\n",
    "print(my_tuple)"
   ]
  },
  {
   "cell_type": "code",
   "execution_count": 2,
   "id": "a1dafa29-abae-4994-b794-12fb8f98ab48",
   "metadata": {},
   "outputs": [
    {
     "name": "stdout",
     "output_type": "stream",
     "text": [
      "tuple1 == tuple2: False\n",
      "tuple1 != tuple2: True\n",
      "tuple1 < tuple2: True\n",
      "tuple1 <= tuple2: True\n",
      "tuple1 > tuple2: False\n",
      "tuple1 >= tuple2: False\n"
     ]
    }
   ],
   "source": [
    "#18 whether two tuples are equal or not\n",
    "tuple1 = (1, 2, 3)\n",
    "tuple2 = (1, 2, 4)\n",
    "print(\"tuple1 == tuple2:\", tuple1 == tuple2)  \n",
    "print(\"tuple1 != tuple2:\", tuple1 != tuple2)\n",
    "print(\"tuple1 < tuple2:\", tuple1 < tuple2)    \n",
    "print(\"tuple1 <= tuple2:\", tuple1 <= tuple2)  \n",
    "print(\"tuple1 > tuple2:\", tuple1 > tuple2)    \n",
    "print(\"tuple1 >= tuple2:\", tuple1 >= tuple2)"
   ]
  },
  {
   "cell_type": "code",
   "execution_count": 13,
   "id": "f23e20e5-31e3-41ed-b6dd-1ab354b31342",
   "metadata": {},
   "outputs": [
    {
     "name": "stdout",
     "output_type": "stream",
     "text": [
      "After deleting the tuple\n"
     ]
    }
   ],
   "source": [
    "#19 Delete a tuple\n",
    "my_tuple = (1,2,3)\n",
    "del(my_tuple)\n",
    "print(\"After deleting the tuple\")"
   ]
  },
  {
   "cell_type": "code",
   "execution_count": 14,
   "id": "a365e248-6818-4144-8120-8e68ef4f55dd",
   "metadata": {},
   "outputs": [
    {
     "name": "stdout",
     "output_type": "stream",
     "text": [
      "sliced tuple (4, 5, 6, 7)\n"
     ]
    }
   ],
   "source": [
    "#20 Sliced the tuple\n",
    "my_tuple = (1,2,3,4,5,6,7,8,9)\n",
    "after_sliced = my_tuple[3:7]\n",
    "print(\"sliced tuple\",after_sliced)"
   ]
  },
  {
   "cell_type": "code",
   "execution_count": 16,
   "id": "23802047-1333-4e33-9e37-5f4e15ee410a",
   "metadata": {},
   "outputs": [
    {
     "name": "stdout",
     "output_type": "stream",
     "text": [
      "Maximum value: 40\n"
     ]
    }
   ],
   "source": [
    "#21 max value in a tuple \n",
    "my_tuple = (10, 20, 5, 15, 40)\n",
    "max_value = max(my_tuple)\n",
    "print(\"Maximum value:\", max_value)"
   ]
  },
  {
   "cell_type": "code",
   "execution_count": 17,
   "id": "49ea3d2b-6ca7-474c-9fdc-73751a5a0667",
   "metadata": {},
   "outputs": [
    {
     "name": "stdout",
     "output_type": "stream",
     "text": [
      "Minimum value: 5\n"
     ]
    }
   ],
   "source": [
    "#22 min value in a tuple\n",
    "my_tuple = (10, 20, 5, 15, 40)\n",
    "min_value = min(my_tuple)\n",
    "print(\"Minimum value:\", min_value)"
   ]
  },
  {
   "cell_type": "code",
   "execution_count": 18,
   "id": "1ad83dc1-41df-4a86-8d01-d9b75485e5df",
   "metadata": {},
   "outputs": [
    {
     "name": "stdout",
     "output_type": "stream",
     "text": [
      "Tuple ('H', 'u', 'm', 'a', 'n', 'B', 'r', 'a', 'i', 'n')\n"
     ]
    }
   ],
   "source": [
    "#23 string into a tuple of characters\n",
    "string = \"HumanBrain\"\n",
    "my_tuple= tuple(string)\n",
    "print(\"Tuple\",my_tuple)"
   ]
  },
  {
   "cell_type": "code",
   "execution_count": 22,
   "id": "6b52f31d-5120-4425-9370-181bc6c01b3e",
   "metadata": {},
   "outputs": [
    {
     "name": "stdout",
     "output_type": "stream",
     "text": [
      "String: HumanBrain\n"
     ]
    }
   ],
   "source": [
    "#24 convert a tuple into a string\n",
    "Tuple =('H', 'u', 'm', 'a', 'n', 'B', 'r', 'a', 'i', 'n')\n",
    "string = ''.join(Tuple)\n",
    "print (\"String:\",string)"
   ]
  },
  {
   "cell_type": "code",
   "execution_count": 23,
   "id": "dbbf30e9-6d76-4c53-b1d1-4cc35d8575e4",
   "metadata": {},
   "outputs": [
    {
     "name": "stdout",
     "output_type": "stream",
     "text": [
      "(1, 'hello', 3.14, True)\n"
     ]
    }
   ],
   "source": [
    "#25 Creating a tuple with elements of different data types\n",
    "mixed_tuple = (1, \"hello\", 3.14, True)\n",
    "print(mixed_tuple)"
   ]
  },
  {
   "cell_type": "code",
   "execution_count": 28,
   "id": "91d31cdf-5a86-40d1-880d-75b30c4db0c7",
   "metadata": {},
   "outputs": [
    {
     "name": "stdout",
     "output_type": "stream",
     "text": [
      "Tuples are equal: False\n",
      "Tuples are equal: True\n"
     ]
    }
   ],
   "source": [
    "#26 If two tuples are identical\n",
    "tuple1 =('a','b','c')\n",
    "tuple2 =('d','e','f')\n",
    "tuple3 =('a','b','c')\n",
    "first_check = tuple1 == tuple2\n",
    "second_check = tuple1 == tuple3\n",
    "print(\"Tuples are equal:\",first_check)\n",
    "print(\"Tuples are equal:\",second_check)"
   ]
  },
  {
   "cell_type": "code",
   "execution_count": 31,
   "id": "aaa1975f-e26c-4899-92ad-2157bc1a2975",
   "metadata": {},
   "outputs": [
    {
     "name": "stdout",
     "output_type": "stream",
     "text": [
      "Sorted tuple: (1, 2, 3, 5, 8)\n"
     ]
    }
   ],
   "source": [
    "#27 sorting a tuple\n",
    "my_value = [5, 2, 8, 1, 3]\n",
    "sorted_tuple = tuple(sorted(my_value))\n",
    "print(\"Sorted tuple:\", sorted_tuple)"
   ]
  },
  {
   "cell_type": "code",
   "execution_count": 34,
   "id": "97b4beb8-de17-4e71-98df-452706d71dc3",
   "metadata": {},
   "outputs": [
    {
     "name": "stdout",
     "output_type": "stream",
     "text": [
      "Tuple of string ('5', '6', '7', '8', '9')\n"
     ]
    }
   ],
   "source": [
    "#28 Tuple of integers into tuple of string\n",
    "my_tuple = (5,6,7,8,9)\n",
    "string_tuple = tuple(str(item) for item in my_tuple) \n",
    "print(\"Tuple of string\",string_tuple)"
   ]
  },
  {
   "cell_type": "code",
   "execution_count": 33,
   "id": "5c4dbd6b-1ba9-402d-94f5-e24db65f1bc5",
   "metadata": {},
   "outputs": [
    {
     "name": "stdout",
     "output_type": "stream",
     "text": [
      "Tuple of integers: (10, 20, 30, 40, 50)\n"
     ]
    }
   ],
   "source": [
    "#29 Tuple of string into tuple of int\n",
    "tuple_of_strings = ('10', '20', '30', '40', '50')\n",
    "tuple_of_integers = tuple(int(item) for item in tuple_of_strings)\n",
    "print(\"Tuple of integers:\", tuple_of_integers)"
   ]
  },
  {
   "cell_type": "code",
   "execution_count": 35,
   "id": "57d8a066-8b66-4cfe-baab-efbaafc03e58",
   "metadata": {},
   "outputs": [
    {
     "name": "stdout",
     "output_type": "stream",
     "text": [
      "Merged tuple: (1, 2, 3, 4, 5, 6)\n"
     ]
    }
   ],
   "source": [
    "#30 merge two tuple\n",
    "tuple1 = (1, 2, 3)\n",
    "tuple2 = (4, 5, 6)\n",
    "merged_tuple = tuple1 + tuple2\n",
    "print(\"Merged tuple:\", merged_tuple)"
   ]
  },
  {
   "cell_type": "code",
   "execution_count": 49,
   "id": "a5bfbf70-c43f-403c-b1d3-a6000820c906",
   "metadata": {},
   "outputs": [
    {
     "name": "stdout",
     "output_type": "stream",
     "text": [
      "Flattened tuple: (1, 2, 3, 4, 5, 6, 7, 8)\n"
     ]
    }
   ],
   "source": [
    "#31 Flatten a nested tuple \n",
    "def flatten_tuple(nested_tuple):\n",
    "    flattened =[]\n",
    "    for item in nested_tuple:\n",
    "        if isinstance(item,tuple):\n",
    "            flattened.extend(flatten_tuple(item))\n",
    "        else:\n",
    "            flattened.append(item)\n",
    "    return flattened  \n",
    "nested_tuple = ((1, 2), (3, 4, 5), (6, (7, 8)))\n",
    "flattened_tuple = tuple(flatten_tuple(nested_tuple))\n",
    "print(\"Flattened tuple:\", flattened_tuple)"
   ]
  },
  {
   "cell_type": "code",
   "execution_count": 55,
   "id": "d383f5b7-d137-4794-9983-279969a5b744",
   "metadata": {},
   "outputs": [
    {
     "name": "stdout",
     "output_type": "stream",
     "text": [
      "First 5 prime numbers (2, 3, 5, 7, 11)\n"
     ]
    }
   ],
   "source": [
    "#32 first 5 prime numbers\n",
    "def is_prime(num):\n",
    "    if num <= 1:\n",
    "        return False\n",
    "    for i in range(2, int(num ** 0.5) + 1):\n",
    "        if num % i == 0:\n",
    "            return False\n",
    "    return True\n",
    "prime_numbers_list = [num for num in range(2, 100) if is_prime(num)][:5]\n",
    "prime_numbers_tuple = tuple(prime_numbers_list)\n",
    "print(\"First 5 prime numbers\",prime_numbers_tuple)"
   ]
  },
  {
   "cell_type": "code",
   "execution_count": 62,
   "id": "2903367d-ad2f-440d-9046-59b1600b9f84",
   "metadata": {},
   "outputs": [
    {
     "name": "stdout",
     "output_type": "stream",
     "text": [
      "(1, 2, 3, 2, 1) is True\n",
      "(1, 2, 3, 4, 5) is False\n"
     ]
    }
   ],
   "source": [
    "#33 Check if tuple is palindrome\n",
    "def is_palindrome(tup):\n",
    "    return tup == tup[::-1]\n",
    "palindrome_tuple = (1, 2, 3, 2, 1)\n",
    "non_palindrome_tuple = (1, 2, 3, 4, 5)\n",
    "is_palindrome1 = is_palindrome(palindrome_tuple)\n",
    "is_palindrome2 = is_palindrome(non_palindrome_tuple)\n",
    "print(palindrome_tuple,\"is\",is_palindrome1)\n",
    "print(non_palindrome_tuple,\"is\",is_palindrome2)"
   ]
  },
  {
   "cell_type": "code",
   "execution_count": 63,
   "id": "b69aad93-c079-49d1-9b3b-8ba180d4b21b",
   "metadata": {},
   "outputs": [
    {
     "name": "stdout",
     "output_type": "stream",
     "text": [
      "Tuple of squares: (1, 4, 9, 16, 25)\n"
     ]
    }
   ],
   "source": [
    "#34 Squares from 1 to 5\n",
    "squares_tuple = tuple(x ** 2 for x in range(1, 6))\n",
    "print(\"Tuple of squares:\", squares_tuple)"
   ]
  },
  {
   "cell_type": "code",
   "execution_count": 65,
   "id": "e6b18a3c-bf60-425b-b158-e14e2bc91634",
   "metadata": {},
   "outputs": [
    {
     "name": "stdout",
     "output_type": "stream",
     "text": [
      "Filtered tuple: (2, 4, 6, 8, 10)\n"
     ]
    }
   ],
   "source": [
    "#35 Even number from 1 to 10 \n",
    "original_tuple = (1, 2, 3, 4, 5, 6, 7, 8, 9, 10)\n",
    "filtered_tuple = tuple(num for num in original_tuple if num % 2 == 0)\n",
    "print(\"Filtered tuple:\", filtered_tuple)"
   ]
  },
  {
   "cell_type": "code",
   "execution_count": 66,
   "id": "c7283866-f6e3-4c16-8fc7-0671ac2eb445",
   "metadata": {},
   "outputs": [
    {
     "name": "stdout",
     "output_type": "stream",
     "text": [
      "(6, 8, 10, 12, 14)\n"
     ]
    }
   ],
   "source": [
    "#36 Multiply elements by 2 in a tuple\n",
    "my_tuple = (3,4,5,6,7)\n",
    "new_tuple = tuple(i *2 for i in my_tuple)\n",
    "print(new_tuple)"
   ]
  },
  {
   "cell_type": "code",
   "execution_count": 5,
   "id": "5b62413c-a2c9-497d-95fe-ee3b5387e2cb",
   "metadata": {},
   "outputs": [
    {
     "name": "stdout",
     "output_type": "stream",
     "text": [
      "Random tuple: (69, 4, 69, 66, 1, 57, 24, 30, 56, 73)\n"
     ]
    }
   ],
   "source": [
    "#37 Create random tuple\n",
    "import random\n",
    "random_tuple = tuple(random.randint(1, 100) for i in range(10))\n",
    "print(\"Random tuple:\", random_tuple)"
   ]
  },
  {
   "cell_type": "code",
   "execution_count": 10,
   "id": "71575634-c6a9-47cd-9a45-0813ed17ef31",
   "metadata": {},
   "outputs": [],
   "source": [
    "#38 Check if a tuple is sorted\n",
    "def sorted(tup):\n",
    "    for i in range(len(tup)-1):\n",
    "        if tup[i]> tup[i+1]:\n",
    "            return False\n",
    "    return True\n"
   ]
  },
  {
   "cell_type": "code",
   "execution_count": 13,
   "id": "3cb6b08b-6355-47c8-a8c7-daa0e446d1ac",
   "metadata": {},
   "outputs": [
    {
     "data": {
      "text/plain": [
       "False"
      ]
     },
     "execution_count": 13,
     "metadata": {},
     "output_type": "execute_result"
    }
   ],
   "source": [
    "sorted((5,6,3,7,8))"
   ]
  },
  {
   "cell_type": "code",
   "execution_count": 14,
   "id": "7d9723bc-2c99-4ac8-8798-7e35e8662896",
   "metadata": {},
   "outputs": [],
   "source": [
    "#39 Rotate a tuple to n left position\n",
    "def rotate_tuple_left(tup, n):\n",
    "    n = n % len(tup) \n",
    "    rotated_tuple = tup[n:] + tup[:n] \n",
    "    return rotated_tuple"
   ]
  },
  {
   "cell_type": "code",
   "execution_count": 15,
   "id": "df93de07-751e-46ed-a2df-401e32f7c627",
   "metadata": {},
   "outputs": [
    {
     "data": {
      "text/plain": [
       "(4, 5, 1, 2, 3)"
      ]
     },
     "execution_count": 15,
     "metadata": {},
     "output_type": "execute_result"
    }
   ],
   "source": [
    "rotate_tuple_left((1,2,3,4,5),3)"
   ]
  },
  {
   "cell_type": "code",
   "execution_count": 16,
   "id": "0f46f326-1e6d-4231-8ea9-7ee882dbd0d3",
   "metadata": {},
   "outputs": [],
   "source": [
    "#40 Roatate a tuple to n right position\n",
    "def rotate_tuple_right(tup, n):\n",
    "    n = n % len(tup) \n",
    "    rotated_tuple = tup[-n:] + tup[:-n] \n",
    "    return rotated_tuple"
   ]
  },
  {
   "cell_type": "code",
   "execution_count": 17,
   "id": "e377f1be-bca1-46f5-9f39-21bcf39e9bd9",
   "metadata": {},
   "outputs": [
    {
     "data": {
      "text/plain": [
       "(3, 4, 5, 1, 2)"
      ]
     },
     "execution_count": 17,
     "metadata": {},
     "output_type": "execute_result"
    }
   ],
   "source": [
    "rotate_tuple_right((1,2,3,4,5),3)"
   ]
  },
  {
   "cell_type": "code",
   "execution_count": 18,
   "id": "d35abd8c-539d-408c-8e0a-a8f5e4f33310",
   "metadata": {},
   "outputs": [],
   "source": [
    "#41 first 5 fibonacci series\n",
    "def first_fibonacci(n):\n",
    "    fibonacci = [0,1]\n",
    "    while len(fibonacci) < n:\n",
    "        next_element = fibonacci[-1] + fibonacci[-2]\n",
    "        fibonacci.append(next_element)\n",
    "    return tuple(fibonacci)"
   ]
  },
  {
   "cell_type": "code",
   "execution_count": 19,
   "id": "1762b8d3-6bc8-49f3-aa3c-10c5497bdf06",
   "metadata": {},
   "outputs": [
    {
     "data": {
      "text/plain": [
       "(0, 1, 1, 2, 3)"
      ]
     },
     "execution_count": 19,
     "metadata": {},
     "output_type": "execute_result"
    }
   ],
   "source": [
    "first_fibonacci(5)"
   ]
  },
  {
   "cell_type": "code",
   "execution_count": 20,
   "id": "ac367bc7-2d74-4789-8991-05ab99d2c9f5",
   "metadata": {},
   "outputs": [
    {
     "name": "stdin",
     "output_type": "stream",
     "text": [
      "Enter elements separated by commas:  1,2,3,4,5,6,7\n"
     ]
    },
    {
     "name": "stdout",
     "output_type": "stream",
     "text": [
      "User input tuple: ('1', '2', '3', '4', '5', '6', '7')\n"
     ]
    }
   ],
   "source": [
    "#42 Create the tuple form user input\n",
    "input_str = input(\"Enter elements separated by commas: \")\n",
    "input_list = input_str.split(',')\n",
    "user_tuple = tuple(input_list)\n",
    "print(\"User input tuple:\", user_tuple)"
   ]
  },
  {
   "cell_type": "code",
   "execution_count": 26,
   "id": "540337af-28df-4c49-a359-47eb2f893dac",
   "metadata": {},
   "outputs": [
    {
     "name": "stdout",
     "output_type": "stream",
     "text": [
      "(1, 2, 4, 3, 5, 6)\n"
     ]
    }
   ],
   "source": [
    "#43 swap two elements in a tuple\n",
    "my_tuple = (1,2,3,4,5,6)\n",
    "index1 = 2\n",
    "index2 = 3\n",
    "swapped_tuple = tuple(\n",
    "    my_tuple[i] if i not in (index1, index2) else\n",
    "    my_tuple[index2] if i == index1 else\n",
    "    my_tuple[index1]\n",
    "    for i in range(len(my_tuple))\n",
    ")\n",
    "print(swapped_tuple)"
   ]
  },
  {
   "cell_type": "code",
   "execution_count": 28,
   "id": "4b0d5d0f-44c5-4934-8df2-86941d61d34c",
   "metadata": {},
   "outputs": [
    {
     "name": "stdout",
     "output_type": "stream",
     "text": [
      "(5, 4, 3, 2, 1)\n"
     ]
    }
   ],
   "source": [
    "#44 reverse the elements of a tuple\n",
    "my_tuple = (1,2,3,4,5)\n",
    "reversed_tuple= my_tuple[::-1]\n",
    "print(reversed_tuple)"
   ]
  },
  {
   "cell_type": "code",
   "execution_count": 31,
   "id": "e5c911cc-85fa-4bf9-b6ed-0bc5861d2bce",
   "metadata": {},
   "outputs": [
    {
     "name": "stdout",
     "output_type": "stream",
     "text": [
      "(1, 2, 4, 8, 16, 32)\n"
     ]
    }
   ],
   "source": [
    "#45 first 2 raise to the power n \n",
    "n = 6\n",
    "power = tuple(2**i for i in range(0,n))\n",
    "print(power)"
   ]
  },
  {
   "cell_type": "code",
   "execution_count": 33,
   "id": "a265ce22-46db-4e81-9217-cf81a1b45b83",
   "metadata": {},
   "outputs": [
    {
     "name": "stdout",
     "output_type": "stream",
     "text": [
      "Longest string: strawberry\n"
     ]
    }
   ],
   "source": [
    "#46 max from tuple of strings\n",
    "string_tuple = (\"apple\", \"banana\", \"grape\", \"strawberry\", \"muskmelon\")\n",
    "longest_string = max(string_tuple, key=len)\n",
    "print(\"Longest string:\", longest_string)"
   ]
  },
  {
   "cell_type": "code",
   "execution_count": 36,
   "id": "c0827b2a-a704-4784-9a56-d5a0f7f37936",
   "metadata": {},
   "outputs": [
    {
     "name": "stdout",
     "output_type": "stream",
     "text": [
      "Shortest string: kiwi\n"
     ]
    }
   ],
   "source": [
    "#47 min from tuple of strings\n",
    "string_tuple = (\"apple\", \"banana\", \"grape\", \"kiwi\", \"muskmelon\")\n",
    "shortest_string = min(string_tuple, key=len)\n",
    "\n",
    "# Print the longest string\n",
    "print(\"Shortest string:\", shortest_string)"
   ]
  },
  {
   "cell_type": "code",
   "execution_count": 37,
   "id": "db8fa02f-abbc-4178-a5f4-c16f373192d5",
   "metadata": {},
   "outputs": [
    {
     "name": "stdout",
     "output_type": "stream",
     "text": [
      "Tuple of the first 5 triangular numbers: (1, 3, 6, 10, 15)\n"
     ]
    }
   ],
   "source": [
    "#48 first 5 triangular numbers\n",
    "n = 5\n",
    "triangular_numbers_tuple = tuple((i * (i + 1)) // 2 for i in range(1, n + 1))\n",
    "print(\"Tuple of the first\", n, \"triangular numbers:\", triangular_numbers_tuple)"
   ]
  },
  {
   "cell_type": "code",
   "execution_count": 39,
   "id": "6109dc46-dd31-41dc-9134-5061382b3993",
   "metadata": {},
   "outputs": [],
   "source": [
    "#49 if a tuple contain subsequence\n",
    "def contain_subsequence(main_tuple, sub_tuple):\n",
    "    sub_length = len(sub_tuple)\n",
    "    for i in range(len(main_tuple) - sub_length + 1):\n",
    "        if main_tuple[i:i+sub_length] == sub_tuple:\n",
    "            return True\n",
    "    return False "
   ]
  },
  {
   "cell_type": "code",
   "execution_count": 40,
   "id": "6a02d243-1949-4456-9989-409d0d995b79",
   "metadata": {},
   "outputs": [
    {
     "data": {
      "text/plain": [
       "False"
      ]
     },
     "execution_count": 40,
     "metadata": {},
     "output_type": "execute_result"
    }
   ],
   "source": [
    "contain_subsequence((1,2,3,4,5,6,7),(7,8,9))"
   ]
  },
  {
   "cell_type": "code",
   "execution_count": 41,
   "id": "1222e704-faf9-4971-b390-bf5eb73ed0b3",
   "metadata": {},
   "outputs": [
    {
     "name": "stdout",
     "output_type": "stream",
     "text": [
      "Tuple of alternating 1s and 0s: (0, 1, 0, 1, 0, 1, 0, 1, 0, 1)\n"
     ]
    }
   ],
   "source": [
    "#50 tuple start with 0s and 1s\n",
    "n = 10\n",
    "alternating_tuple = tuple(i % 2 for i in range(n))\n",
    "print(\"Tuple of alternating 1s and 0s:\", alternating_tuple)"
   ]
  },
  {
   "cell_type": "code",
   "execution_count": 42,
   "id": "e0ae1fb8-80e5-4e4a-bb43-7418dbe1d823",
   "metadata": {},
   "outputs": [
    {
     "name": "stdout",
     "output_type": "stream",
     "text": [
      "{1, 2, 3, 4, 5}\n"
     ]
    }
   ],
   "source": [
    "# Set based problems\n",
    "#1 Create a set from 1 to 5\n",
    "my_set = set()\n",
    "my_set.add(1)\n",
    "my_set.add(2)\n",
    "my_set.add(3)\n",
    "my_set.add(4)\n",
    "my_set.add(5)\n",
    "print(my_set)"
   ]
  },
  {
   "cell_type": "code",
   "execution_count": 43,
   "id": "9cd93521-4fa0-445d-8f3e-a2d59df830cf",
   "metadata": {},
   "outputs": [
    {
     "name": "stdout",
     "output_type": "stream",
     "text": [
      "Original set: {1, 2, 3, 4, 5}\n",
      "Set after adding element: {1, 2, 3, 4, 5, 6}\n"
     ]
    }
   ],
   "source": [
    "#2 Add an element to a set\n",
    "my_set = {1, 2, 3, 4, 5}\n",
    "print(\"Original set:\", my_set)\n",
    "element_to_add = 6\n",
    "my_set.add(element_to_add)\n",
    "print(\"Set after adding element:\", my_set)"
   ]
  },
  {
   "cell_type": "code",
   "execution_count": 44,
   "id": "175ea348-b936-42ff-bbb7-e37accb88280",
   "metadata": {},
   "outputs": [
    {
     "name": "stdout",
     "output_type": "stream",
     "text": [
      "Original set: {1, 2, 3, 4, 5}\n",
      "Set after removing element: {1, 2, 4, 5}\n"
     ]
    }
   ],
   "source": [
    "#3 remove an element from a set\n",
    "my_set = {1, 2, 3, 4, 5}\n",
    "print(\"Original set:\", my_set)\n",
    "element_to_remove = 3\n",
    "my_set.remove(element_to_remove)\n",
    "\n",
    "# Step 4: Display the modified set\n",
    "print(\"Set after removing element:\", my_set)"
   ]
  },
  {
   "cell_type": "code",
   "execution_count": 47,
   "id": "8f8b026c-f11f-4747-a9c5-9036382be7bd",
   "metadata": {},
   "outputs": [
    {
     "name": "stdin",
     "output_type": "stream",
     "text": [
      "Enter the element to check:  3\n"
     ]
    },
    {
     "name": "stdout",
     "output_type": "stream",
     "text": [
      "{3} exists in the set.\n"
     ]
    }
   ],
   "source": [
    "#4 check an element in set\n",
    "my_set = {1, 3, 5, 7, 9}\n",
    "element_to_check = int(input(\"Enter the element to check: \"))\n",
    "if element_to_check in my_set:\n",
    "    print({element_to_check},\"exists in the set.\")\n",
    "else:\n",
    "    print({element_to_check}, \"does not exist in the set.\")"
   ]
  },
  {
   "cell_type": "code",
   "execution_count": 48,
   "id": "985afcb5-f4ac-4139-ac66-2b4c647e07d2",
   "metadata": {},
   "outputs": [
    {
     "name": "stdout",
     "output_type": "stream",
     "text": [
      "Length of the set: 5\n"
     ]
    }
   ],
   "source": [
    "#5 length of set without using len function\n",
    "my_set = {1, 2, 3, 4, 5}\n",
    "count = 0\n",
    "for i in my_set:\n",
    "    count += 1\n",
    "print(\"Length of the set:\", count)"
   ]
  },
  {
   "cell_type": "code",
   "execution_count": 49,
   "id": "06f9e32d-5483-4060-8252-8b7d03046113",
   "metadata": {},
   "outputs": [
    {
     "name": "stdout",
     "output_type": "stream",
     "text": [
      "Original set: {1, 2, 3, 4, 5}\n",
      "Set after clearing: set()\n"
     ]
    }
   ],
   "source": [
    "#6 Clear all elements from a set\n",
    "my_set = {1, 2, 3, 4, 5}\n",
    "print(\"Original set:\", my_set)\n",
    "my_set.clear()\n",
    "print(\"Set after clearing:\", my_set)"
   ]
  },
  {
   "cell_type": "code",
   "execution_count": 53,
   "id": "84d0cb34-ba02-4fef-bfc6-5d0e22de3b17",
   "metadata": {},
   "outputs": [
    {
     "name": "stdout",
     "output_type": "stream",
     "text": [
      "{2, 4, 6, 8, 10}\n"
     ]
    }
   ],
   "source": [
    "#7 Even number from 1 to 10\n",
    "even_number = set()\n",
    "for i in range (1,11):\n",
    "    if i % 2 == 0:\n",
    "        even_number.add(i)\n",
    "print(even_number)"
   ]
  },
  {
   "cell_type": "code",
   "execution_count": 54,
   "id": "bb997873-1d40-4bda-9428-5a778b0e7e8c",
   "metadata": {},
   "outputs": [
    {
     "name": "stdout",
     "output_type": "stream",
     "text": [
      "{1, 3, 5, 7, 9}\n"
     ]
    }
   ],
   "source": [
    "#8 Odd number from 1 to 10\n",
    "odd_number = set()\n",
    "for i in range (1,10):\n",
    "    if i % 2 == 1:\n",
    "        odd_number.add(i)\n",
    "print(odd_number)"
   ]
  },
  {
   "cell_type": "code",
   "execution_count": 55,
   "id": "cc4f06d1-5c3d-4303-b534-34b8506754c1",
   "metadata": {},
   "outputs": [
    {
     "name": "stdout",
     "output_type": "stream",
     "text": [
      "Set 1: {1, 2, 3, 4, 5}\n",
      "Set 2: {4, 5, 6, 7, 8}\n",
      "Union of Set 1 and Set 2: {1, 2, 3, 4, 5, 6, 7, 8}\n"
     ]
    }
   ],
   "source": [
    "#9 Union of two sets\n",
    "set1 = {1, 2, 3, 4, 5}\n",
    "set2 = {4, 5, 6, 7, 8}\n",
    "union_result = set1.union(set2)\n",
    "print(\"Set 1:\", set1)\n",
    "print(\"Set 2:\", set2)\n",
    "print(\"Union of Set 1 and Set 2:\", union_result)"
   ]
  },
  {
   "cell_type": "code",
   "execution_count": 56,
   "id": "b381b156-1691-43c2-9128-4aef0f574181",
   "metadata": {},
   "outputs": [
    {
     "name": "stdout",
     "output_type": "stream",
     "text": [
      "Set 1: {1, 2, 3, 4, 5}\n",
      "Set 2: {3, 4, 5, 6, 7}\n",
      "Intersection: {3, 4, 5}\n"
     ]
    }
   ],
   "source": [
    "#10 Intersection of two sets\n",
    "set1 = {1, 2, 3, 4, 5}\n",
    "set2 = {3, 4, 5, 6, 7}\n",
    "intersection_result = set1.intersection(set2)\n",
    "print(\"Set 1:\", set1)\n",
    "print(\"Set 2:\", set2)\n",
    "print(\"Intersection:\", intersection_result)"
   ]
  },
  {
   "cell_type": "code",
   "execution_count": 57,
   "id": "6addbde7-cb2b-40df-a882-34646a6eac91",
   "metadata": {},
   "outputs": [
    {
     "name": "stdout",
     "output_type": "stream",
     "text": [
      "Set 1: {1, 2, 3, 4, 5}\n",
      "Set 2: {3, 4, 5, 6, 7}\n",
      "Difference: {1, 2}\n"
     ]
    }
   ],
   "source": [
    "#11 Difference of two sets\n",
    "set1 = {1, 2, 3, 4, 5}\n",
    "set2 = {3, 4, 5, 6, 7}\n",
    "difference_set = set1.difference(set2)\n",
    "print(\"Set 1:\", set1)\n",
    "print(\"Set 2:\", set2)\n",
    "print(\"Difference:\", difference_set)"
   ]
  },
  {
   "cell_type": "code",
   "execution_count": 58,
   "id": "4b9afddf-6868-4497-838a-9a5ee966f07f",
   "metadata": {},
   "outputs": [
    {
     "name": "stdout",
     "output_type": "stream",
     "text": [
      "Is set1 a subset of set2: True\n"
     ]
    }
   ],
   "source": [
    "#12 Subset of a set\n",
    "set1 = {1, 2, 3}\n",
    "set2 = {1, 2, 3, 4, 5}\n",
    "is_subset = set1.issubset(set2)\n",
    "print(\"Is set1 a subset of set2:\", is_subset)"
   ]
  },
  {
   "cell_type": "code",
   "execution_count": 59,
   "id": "407c7e23-48b8-4897-b7c2-26f8627d1eb8",
   "metadata": {},
   "outputs": [
    {
     "name": "stdout",
     "output_type": "stream",
     "text": [
      "set1 is a superset of set2\n"
     ]
    }
   ],
   "source": [
    "#13 Superset of a set\n",
    "set1 = {1, 2, 3, 4, 5, 6}\n",
    "set2 = {3, 4}\n",
    "is_superset = set1.issuperset(set2)\n",
    "if is_superset:\n",
    "    print(\"set1 is a superset of set2\")\n",
    "else:\n",
    "    print(\"set1 is not a superset of set2\")"
   ]
  },
  {
   "cell_type": "code",
   "execution_count": 60,
   "id": "ee9f28c6-270b-4d16-9866-965184dd5a9f",
   "metadata": {},
   "outputs": [
    {
     "name": "stdout",
     "output_type": "stream",
     "text": [
      "Original List: [2, 4, 1, 4, 3, 2, 5]\n",
      "Set from List: {1, 2, 3, 4, 5}\n"
     ]
    }
   ],
   "source": [
    "#14 Create a set from a list\n",
    "my_list = [2, 4, 1, 4, 3, 2, 5]\n",
    "my_set = set(my_list)\n",
    "print(\"Original List:\", my_list)\n",
    "print(\"Set from List:\", my_set)"
   ]
  },
  {
   "cell_type": "code",
   "execution_count": 61,
   "id": "2bbd326b-f656-4754-a396-fc2f9c5a8cad",
   "metadata": {},
   "outputs": [
    {
     "name": "stdout",
     "output_type": "stream",
     "text": [
      "Original Set: {1, 2, 3, 4, 5, 6, 9}\n",
      "Converted List: [1, 2, 3, 4, 5, 6, 9]\n"
     ]
    }
   ],
   "source": [
    "#15 Create a list from set\n",
    "my_set = {3, 1, 4, 1, 5, 9, 2, 6, 5}\n",
    "my_list = list(my_set)\n",
    "print(\"Original Set:\", my_set)\n",
    "print(\"Converted List:\", my_list)"
   ]
  },
  {
   "cell_type": "code",
   "execution_count": 1,
   "id": "5c0b2459-2e40-4b97-9079-d9f37496781d",
   "metadata": {},
   "outputs": [
    {
     "name": "stdout",
     "output_type": "stream",
     "text": [
      "Original set: {50, 20, 70, 40, 10, 60, 30}\n",
      "Updated set after removing 40 : {50, 20, 70, 10, 60, 30}\n"
     ]
    }
   ],
   "source": [
    "#16 Remove a random element set from a set\n",
    "import random \n",
    "my_set = {10, 20, 30, 40, 50, 60, 70}\n",
    "print(\"Original set:\", my_set)\n",
    "random_element = random.choice(list(my_set))\n",
    "my_set.remove(random_element)\n",
    "print(\"Updated set after removing\", random_element, \":\", my_set)"
   ]
  },
  {
   "cell_type": "code",
   "execution_count": 10,
   "id": "c3bd06b5-e366-4076-9f75-ce3af0ac6272",
   "metadata": {},
   "outputs": [
    {
     "name": "stdout",
     "output_type": "stream",
     "text": [
      "Original set: {50, 20, 40, 10, 30}\n",
      "Popped element: 50\n",
      "Set after popping: {20, 40, 10, 30}\n"
     ]
    }
   ],
   "source": [
    "#17 Pop an element from a set\n",
    "my_set = {10, 20, 30, 40, 50}\n",
    "print(\"Original set:\", my_set)\n",
    "popped_element = my_set.pop()\n",
    "print(\"Popped element:\", popped_element)\n",
    "print(\"Set after popping:\", my_set)"
   ]
  },
  {
   "cell_type": "code",
   "execution_count": 17,
   "id": "77fc906f-7ce6-4f5d-8344-b0e12f790f36",
   "metadata": {},
   "outputs": [
    {
     "name": "stdout",
     "output_type": "stream",
     "text": [
      "The two sets have common elements: {3, 4}\n"
     ]
    }
   ],
   "source": [
    "#18 sets have something common\n",
    "set1 = {1, 2, 3, 4}\n",
    "set2 = {3, 4, 7, 8}\n",
    "common_elements = set1.intersection(set2)\n",
    "if not common_elements:\n",
    "    print(\"The two sets have no elements in common.\")\n",
    "else:\n",
    "    print(\"The two sets have common elements:\", common_elements)"
   ]
  },
  {
   "cell_type": "code",
   "execution_count": 18,
   "id": "cd4fc758-a29b-420e-82b9-26ec8a9a035a",
   "metadata": {},
   "outputs": [
    {
     "name": "stdout",
     "output_type": "stream",
     "text": [
      "Symmetric Difference: {1, 2, 3, 6, 7, 8}\n"
     ]
    }
   ],
   "source": [
    "#19 Symmetric difference\n",
    "set1 = {1, 2, 3, 4, 5}\n",
    "set2 = {4, 5, 6, 7, 8}\n",
    "symmetric_difference = set1 ^ set2\n",
    "print(\"Symmetric Difference:\", symmetric_difference)"
   ]
  },
  {
   "cell_type": "code",
   "execution_count": 21,
   "id": "2ab6292c-688c-40ef-b28a-d749d998711a",
   "metadata": {},
   "outputs": [
    {
     "name": "stdout",
     "output_type": "stream",
     "text": [
      "Set 1: {1, 2, 3}\n",
      "Set 2: {3, 4, 5}\n",
      "Updated Set 1: {1, 2, 3, 4, 5}\n"
     ]
    }
   ],
   "source": [
    "#20 Update set \n",
    "set1 = {1, 2, 3}\n",
    "print(\"Set 1:\", set1)\n",
    "set2 = {3, 4, 5}\n",
    "print(\"Set 2:\", set2)\n",
    "set1.update(set2)\n",
    "print(\"Updated Set 1:\", set1)"
   ]
  },
  {
   "cell_type": "code",
   "execution_count": 25,
   "id": "4fa0436b-7f30-43f8-bd29-3e0aa45fa26d",
   "metadata": {},
   "outputs": [
    {
     "name": "stdout",
     "output_type": "stream",
     "text": [
      "set of first prime no. {2, 3, 5, 7, 11}\n"
     ]
    }
   ],
   "source": [
    "#21 create set with first 5 prime num\n",
    "def is_prime(num):\n",
    "    if num <= 1:\n",
    "        return False\n",
    "    for i in range(2, int(num ** 0.5) + 1):\n",
    "        if num % i == 0:\n",
    "            return False\n",
    "    return True\n",
    "prime_num = set()\n",
    "num = 2\n",
    "while len(prime_num)<5:\n",
    "    if is_prime(num):\n",
    "        prime_num.add(num)\n",
    "    num+=1\n",
    "print(\"set of first prime no.\",prime_num)    \n",
    "        \n",
    "    "
   ]
  },
  {
   "cell_type": "code",
   "execution_count": 26,
   "id": "e9dd4061-1f53-4188-8d10-0205bb0cdc65",
   "metadata": {},
   "outputs": [
    {
     "name": "stdout",
     "output_type": "stream",
     "text": [
      "The sets are identical.\n"
     ]
    }
   ],
   "source": [
    "#22 If two sets are equal\n",
    "set1 = {1, 2, 3, 4, 5}\n",
    "set2 = {3, 1, 5, 2, 4}\n",
    "if set1 == set2:\n",
    "    print(\"The sets are identical.\")\n",
    "else:\n",
    "    print(\"The sets are not identical.\")"
   ]
  },
  {
   "cell_type": "code",
   "execution_count": 27,
   "id": "98eec10f-9bfb-445f-b1b7-ee79d4c852c4",
   "metadata": {},
   "outputs": [
    {
     "name": "stdout",
     "output_type": "stream",
     "text": [
      "Frozen Set: frozenset({1, 2, 3, 4, 5})\n"
     ]
    }
   ],
   "source": [
    "#23 Frozen set\n",
    "elements = [1, 2, 3, 4, 5]\n",
    "my_frozen_set = frozenset(elements)\n",
    "print(\"Frozen Set:\", my_frozen_set)"
   ]
  },
  {
   "cell_type": "code",
   "execution_count": 29,
   "id": "5c5bf12c-0e52-40a9-88b8-86b2f35d4009",
   "metadata": {},
   "outputs": [
    {
     "name": "stdout",
     "output_type": "stream",
     "text": [
      "Are the sets disjoint? False\n"
     ]
    }
   ],
   "source": [
    "#24 whether a set is disjoint \n",
    "set1 = {1, 2, 3, 4}\n",
    "set2 = {4, 6, 7, 8}\n",
    "disjoint_status = set1.isdisjoint(set2)\n",
    "print(\"Are the sets disjoint?\", disjoint_status)"
   ]
  },
  {
   "cell_type": "code",
   "execution_count": 31,
   "id": "38880ccb-c8f4-412a-b12b-5689c611a408",
   "metadata": {},
   "outputs": [
    {
     "name": "stdout",
     "output_type": "stream",
     "text": [
      "{1, 4, 9, 16, 25}\n"
     ]
    }
   ],
   "source": [
    "#25 set of squares from 1 to 5\n",
    "set_square = set()\n",
    "for i in range(1,6):\n",
    "    num = i**2\n",
    "    set_square.add(num)\n",
    "print(set_square)\n"
   ]
  },
  {
   "cell_type": "code",
   "execution_count": 32,
   "id": "c8a21c17-fbdf-46f4-a419-4a038ec9ab02",
   "metadata": {},
   "outputs": [
    {
     "name": "stdout",
     "output_type": "stream",
     "text": [
      "Original Set: {1, 2, 3, 4, 5}\n",
      "Even Numbers Set: {2, 4}\n"
     ]
    }
   ],
   "source": [
    "#26 set of even numbers\n",
    "original_set = {1, 2, 3, 4, 5}\n",
    "even_numbers_set = set()\n",
    "for num in original_set:\n",
    "    if num % 2 == 0:\n",
    "        even_numbers_set.add(num)\n",
    "print(\"Original Set:\", original_set)\n",
    "print(\"Even Numbers Set:\", even_numbers_set)"
   ]
  },
  {
   "cell_type": "code",
   "execution_count": 33,
   "id": "b5bf79c5-5b2d-425e-b1e9-c8ea7c538249",
   "metadata": {},
   "outputs": [
    {
     "name": "stdout",
     "output_type": "stream",
     "text": [
      "Original Set: {40, 20, 30}\n",
      "Multiplied Set: {80, 40, 60}\n"
     ]
    }
   ],
   "source": [
    "#27 multiply the set by 2\n",
    "original_set = {20,30,40}\n",
    "multiplied_set = set()\n",
    "for num in original_set:\n",
    "    multiplied_num = num * 2\n",
    "    multiplied_set.add(multiplied_num)\n",
    "print(\"Original Set:\", original_set)\n",
    "print(\"Multiplied Set:\", multiplied_set)"
   ]
  },
  {
   "cell_type": "code",
   "execution_count": 35,
   "id": "f7eb4016-dcb6-44f6-a004-6e435cfb785a",
   "metadata": {},
   "outputs": [
    {
     "name": "stdout",
     "output_type": "stream",
     "text": [
      "Set of random numbers: {5, 39, 45, 14, 23}\n"
     ]
    }
   ],
   "source": [
    "#28 random number set\n",
    "import random\n",
    "num_random = 5\n",
    "random_number_set = set()\n",
    "for i in range(num_random):\n",
    "    random_num = random.randint(1, 50)\n",
    "    random_number_set.add(random_num)\n",
    "print(\"Set of random numbers:\", random_number_set)"
   ]
  },
  {
   "cell_type": "code",
   "execution_count": 37,
   "id": "dd276f0d-5905-4961-bb23-f8134d16ff9b",
   "metadata": {},
   "outputs": [
    {
     "name": "stdout",
     "output_type": "stream",
     "text": [
      "The set is empty.\n"
     ]
    }
   ],
   "source": [
    "#29 if a set is empty\n",
    "check_set = set()\n",
    "if not check_set:\n",
    "    print(\"The set is empty.\")\n",
    "else:\n",
    "    print(\"The set is not empty.\")"
   ]
  },
  {
   "cell_type": "code",
   "execution_count": 38,
   "id": "5e225e43-a701-44dc-b22d-886cbb768115",
   "metadata": {},
   "outputs": [
    {
     "name": "stdout",
     "output_type": "stream",
     "text": [
      "Nested Set: {frozenset({1, 2, 3, 4, 5}), frozenset({6, 7, 8, 9, 10})}\n"
     ]
    }
   ],
   "source": [
    "#30 Create a nested set\n",
    "set1 = {1, 2, 3, 4, 5}\n",
    "set2 = {6, 7, 8, 9, 10}\n",
    "frozen_set1 = frozenset(set1)\n",
    "frozen_set2 = frozenset(set2)\n",
    "nested_set = {frozen_set1, frozen_set2}\n",
    "print(\"Nested Set:\", nested_set)"
   ]
  },
  {
   "cell_type": "code",
   "execution_count": 2,
   "id": "0d7e6b6b-1999-4127-b46e-c99c2c53ee3f",
   "metadata": {},
   "outputs": [
    {
     "name": "stdout",
     "output_type": "stream",
     "text": [
      "Initial set: {50, 20, 40, 10, 30}\n",
      "Set after removing 30 : {50, 20, 40, 10}\n"
     ]
    }
   ],
   "source": [
    "#31 Discard en element\n",
    "my_set = {10, 20, 30, 40, 50}\n",
    "print(\"Initial set:\", my_set)\n",
    "element_to_remove = 30\n",
    "my_set.discard(element_to_remove)\n",
    "print(\"Set after removing\", element_to_remove, \":\", my_set)"
   ]
  },
  {
   "cell_type": "code",
   "execution_count": 3,
   "id": "b6fa5e06-6549-474b-a91c-42d309f61754",
   "metadata": {},
   "outputs": [
    {
     "name": "stdout",
     "output_type": "stream",
     "text": [
      "Set 1: {1, 2, 3, 4, 5}\n",
      "Set 2: {4, 5, 6, 7, 8}\n",
      "Is set1 a subset of set2? False\n",
      "Is set2 a subset of set1? False\n",
      "Intersection: {4, 5}\n",
      "Union: {1, 2, 3, 4, 5, 6, 7, 8}\n",
      "Elements in set1 but not in set2: {1, 2, 3}\n",
      "Elements in set2 but not in set1: {8, 6, 7}\n"
     ]
    }
   ],
   "source": [
    "#32 Compare two sets\n",
    "set1 = {1, 2, 3, 4, 5}\n",
    "set2 = {4, 5, 6, 7, 8}\n",
    "subset = set1.issubset(set2)\n",
    "superset = set1.issuperset(set2)\n",
    "intersection = set1.intersection(set2)\n",
    "union = set1.union(set2)\n",
    "difference1 = set1.difference(set2)\n",
    "difference2 = set2.difference(set1)\n",
    "print(\"Set 1:\", set1)\n",
    "print(\"Set 2:\", set2)\n",
    "print(\"Is set1 a subset of set2?\",subset)\n",
    "print(\"Is set2 a subset of set1?\",superset)\n",
    "print(\"Intersection:\", intersection)\n",
    "print(\"Union:\", union)\n",
    "print(\"Elements in set1 but not in set2:\", difference1)\n",
    "print(\"Elements in set2 but not in set1:\", difference2)"
   ]
  },
  {
   "cell_type": "code",
   "execution_count": 5,
   "id": "a1431683-3462-4236-9ae1-d6755540a0b3",
   "metadata": {},
   "outputs": [
    {
     "name": "stdout",
     "output_type": "stream",
     "text": [
      "{'u', 'H', 'o', 's', 'e'}\n"
     ]
    }
   ],
   "source": [
    "#33 set from string\n",
    "string = 'House'\n",
    "my_set = set(string)\n",
    "print(my_set)"
   ]
  },
  {
   "cell_type": "code",
   "execution_count": 10,
   "id": "90ce2e37-5c3c-4d1f-ab85-a528247f7426",
   "metadata": {},
   "outputs": [
    {
     "name": "stdout",
     "output_type": "stream",
     "text": [
      "Integer set: {456, 123, 789}\n"
     ]
    }
   ],
   "source": [
    "#34 string into integers set\n",
    "string_set = {'123','456','789'}\n",
    "integer_set = set()\n",
    "for i in string_set:\n",
    "    y = int(i)\n",
    "    integer_set.add(y)\n",
    "print(\"Integer set:\",integer_set)"
   ]
  },
  {
   "cell_type": "code",
   "execution_count": 11,
   "id": "6ec02226-bb49-4b07-9d9f-0818b8c14446",
   "metadata": {},
   "outputs": [
    {
     "name": "stdout",
     "output_type": "stream",
     "text": [
      "String set: {'456', '123', '789'}\n"
     ]
    }
   ],
   "source": [
    "#35 integer into string set\n",
    "integer_set = {123,456,789}\n",
    "string_set = set()\n",
    "for i in integer_set:\n",
    "    y = str(i)\n",
    "    string_set.add(y)\n",
    "print(\"String set:\", string_set)"
   ]
  },
  {
   "cell_type": "code",
   "execution_count": 12,
   "id": "de37ad1b-5392-458f-8280-8926767b401b",
   "metadata": {},
   "outputs": [
    {
     "name": "stdout",
     "output_type": "stream",
     "text": [
      "{1, 2, 3, 4, 5}\n"
     ]
    }
   ],
   "source": [
    "#36 Tuple into set \n",
    "input_tuple = (1, 2, 3, 2, 4, 5, 1)\n",
    "output_set = set(input_tuple)\n",
    "print(output_set)"
   ]
  },
  {
   "cell_type": "code",
   "execution_count": 13,
   "id": "f0b5ec48-a6ff-4e7f-afbf-af5f681d1567",
   "metadata": {},
   "outputs": [
    {
     "name": "stdout",
     "output_type": "stream",
     "text": [
      "Original set: {1, 2, 3, 4, 5}\n",
      "Converted tuple: (1, 2, 3, 4, 5)\n"
     ]
    }
   ],
   "source": [
    "#37 Set into tuple\n",
    "input_set = {1, 2, 3, 4, 5}\n",
    "output_tuple = tuple(input_set)\n",
    "print(\"Original set:\", input_set)\n",
    "print(\"Converted tuple:\", output_tuple)"
   ]
  },
  {
   "cell_type": "code",
   "execution_count": 15,
   "id": "3e817f67-af7b-4607-804e-bbeeed675e73",
   "metadata": {},
   "outputs": [
    {
     "name": "stdout",
     "output_type": "stream",
     "text": [
      "Maximum value: 33\n"
     ]
    }
   ],
   "source": [
    "#38 Maximum value in the set\n",
    "my_set = {15, 7, 22, 33, 8}\n",
    "max_value = None\n",
    "for num in my_set:\n",
    "    if max_value is None or num > max_value:\n",
    "        max_value = num  \n",
    "print(\"Maximum value:\", max_value)"
   ]
  },
  {
   "cell_type": "code",
   "execution_count": 16,
   "id": "fb04fff7-95d5-4420-a0ba-ec13cb645692",
   "metadata": {},
   "outputs": [
    {
     "name": "stdout",
     "output_type": "stream",
     "text": [
      "Minimum value: 3\n"
     ]
    }
   ],
   "source": [
    "#39 Minimum value in set\n",
    "my_set = {15, 7, 22, 3, 8}\n",
    "min_value = None\n",
    "for num in my_set:\n",
    "    if min_value is None or num < min_value:\n",
    "        min_value = num  \n",
    "print(\"Minimum value:\", min_value)"
   ]
  },
  {
   "cell_type": "code",
   "execution_count": 21,
   "id": "93322382-cafb-4b54-99d8-4fc6fe7d3823",
   "metadata": {},
   "outputs": [
    {
     "name": "stdout",
     "output_type": "stream",
     "text": [
      "Enter elements for the set (type 'finish' to end):\n"
     ]
    },
    {
     "name": "stdin",
     "output_type": "stream",
     "text": [
      ":>  Apple,Mango,Banana\n",
      ":>  finish\n"
     ]
    },
    {
     "name": "stdout",
     "output_type": "stream",
     "text": [
      "Final set: {'Apple,Mango,Banana'}\n"
     ]
    }
   ],
   "source": [
    "#40 create a set from user input\n",
    "my_set = set()\n",
    "print(\"Enter elements for the set (type 'finish' to end):\")\n",
    "while True:\n",
    "    user_input = input(\":> \")  \n",
    "    if user_input.lower() == 'finish':\n",
    "        break  \n",
    "    my_set.add(user_input)\n",
    "print(\"Final set:\", my_set)"
   ]
  },
  {
   "cell_type": "code",
   "execution_count": 23,
   "id": "8ff22c33-ec58-4255-800f-f032e145d60e",
   "metadata": {},
   "outputs": [
    {
     "name": "stdout",
     "output_type": "stream",
     "text": [
      "The intersection of the two sets is empty.\n"
     ]
    }
   ],
   "source": [
    "#41 Intersection of two sets is empty\n",
    "set1 = {1, 2, 3, 4}\n",
    "set2 = {5, 6, 7, 8}\n",
    "intersection_result = set1.intersection(set2)\n",
    "if not intersection_result:\n",
    "    print(\"The intersection of the two sets is empty.\")\n",
    "else:\n",
    "    print(\"The intersection of the two sets is not empty.\")"
   ]
  },
  {
   "cell_type": "code",
   "execution_count": 24,
   "id": "b81ac9f1-eb22-4992-bbea-5aa7720cc964",
   "metadata": {},
   "outputs": [
    {
     "name": "stdout",
     "output_type": "stream",
     "text": [
      "Set of the first 5 Fibonacci numbers: {0, 1, 2, 3, 5}\n"
     ]
    }
   ],
   "source": [
    "#42 fibonacci series\n",
    "fibonacci_set = set()\n",
    "a, b = 0, 1\n",
    "for i in range(6):\n",
    "    fibonacci_set.add(a)\n",
    "    a, b = b, a + b\n",
    "print(\"Set of the first 5 Fibonacci numbers:\", fibonacci_set)"
   ]
  },
  {
   "cell_type": "code",
   "execution_count": 25,
   "id": "dd9779ee-63ea-44c1-8922-8ba034bf57e5",
   "metadata": {},
   "outputs": [
    {
     "name": "stdout",
     "output_type": "stream",
     "text": [
      "Original List: [1, 1, 1, 2, 3, 4, 5, 5, 5, 6, 6, 7]\n",
      "List with Duplicates Removed: [1, 2, 3, 4, 5, 6, 7]\n"
     ]
    }
   ],
   "source": [
    "#43 Remove duplicates fromlist using a set\n",
    "original_list = [1,1,1,2,3,4,5,5,5,6,6,7]\n",
    "unique_set = set(original_list)\n",
    "unique_list = list(unique_set)\n",
    "print(\"Original List:\", original_list)\n",
    "print(\"List with Duplicates Removed:\", unique_list)"
   ]
  },
  {
   "cell_type": "code",
   "execution_count": 28,
   "id": "80885ff9-75c4-40fd-ab87-7884a66fb19a",
   "metadata": {},
   "outputs": [
    {
     "name": "stdout",
     "output_type": "stream",
     "text": [
      "The sets have the same elements.\n"
     ]
    }
   ],
   "source": [
    "#44 If two sets have same elements\n",
    "def same_elements(set1, set2):\n",
    "    sorted_list1 = sorted(list(set1))\n",
    "    sorted_list2 = sorted(list(set2))\n",
    "    return sorted_list1 == sorted_list2\n",
    "set1 = {1, 2, 3, 2, 4, 3, 1}\n",
    "set2 = {3, 1, 2, 4}\n",
    "result =same_elements(set1, set2)\n",
    "if result:\n",
    "    print(\"The sets have the same elements.\")\n",
    "else:\n",
    "    print(\"The sets do not have the same elements.\")"
   ]
  },
  {
   "cell_type": "code",
   "execution_count": 29,
   "id": "b62e611d-b2f0-4b1b-a8d7-b9b39325434d",
   "metadata": {},
   "outputs": [],
   "source": [
    "#45 powers of 2 \n",
    "def powers_of_2(n):\n",
    "    powers_of_2 = set()\n",
    "    for i in range(n):\n",
    "        power = 2 ** i\n",
    "        powers_of_2.add(power)\n",
    "    return powers_of_2"
   ]
  },
  {
   "cell_type": "code",
   "execution_count": 30,
   "id": "1ff17c93-f996-4d9f-b3f4-d17667f2d43e",
   "metadata": {},
   "outputs": [
    {
     "data": {
      "text/plain": [
       "{1, 2, 4, 8, 16}"
      ]
     },
     "execution_count": 30,
     "metadata": {},
     "output_type": "execute_result"
    }
   ],
   "source": [
    "powers_of_2(5)"
   ]
  },
  {
   "cell_type": "code",
   "execution_count": 32,
   "id": "80f1437e-664d-40a0-a1a0-82f0c1602488",
   "metadata": {},
   "outputs": [
    {
     "name": "stdout",
     "output_type": "stream",
     "text": [
      "{5, 6}\n"
     ]
    }
   ],
   "source": [
    "#46 Common elements between a set and list\n",
    "my_set = {1,2,3,4,5,6}\n",
    "my_list = [5,6,7,8,9]\n",
    "common_elements = []\n",
    "new_list = list(my_set)\n",
    "for i in my_list:\n",
    "    if i in new_list:\n",
    "        common_elements.append(i)\n",
    "print(set(common_elements))   "
   ]
  },
  {
   "cell_type": "code",
   "execution_count": 34,
   "id": "3c47110b-84f5-40ff-9400-20c7d5b6a7fa",
   "metadata": {},
   "outputs": [
    {
     "name": "stdin",
     "output_type": "stream",
     "text": [
      "Enter the value of n:  5\n"
     ]
    },
    {
     "name": "stdout",
     "output_type": "stream",
     "text": [
      "The set of the first 5 triangular numbers is: {1, 3, 6, 10, 15}\n"
     ]
    }
   ],
   "source": [
    "#47 Triangular numbers\n",
    "def triangular_numbers(n):\n",
    "    tri_numbers = set()\n",
    "    for i in range(1, n + 1):\n",
    "        triangular_number = i * (i + 1) // 2\n",
    "        tri_numbers.add(triangular_number)\n",
    "    return tri_numbers\n",
    "n = int(input(\"Enter the value of n: \"))\n",
    "triangular_set =triangular_numbers(n)\n",
    "print(f\"The set of the first {n} triangular numbers is:\", triangular_set)"
   ]
  },
  {
   "cell_type": "code",
   "execution_count": 36,
   "id": "7ae5e834-f9e7-4477-979e-6b3c92281d63",
   "metadata": {},
   "outputs": [
    {
     "name": "stdout",
     "output_type": "stream",
     "text": [
      "set2 is a subset of set1\n"
     ]
    }
   ],
   "source": [
    "#48 If another subset is in set\n",
    "set1 = {1, 2, 3, 4, 5}\n",
    "set2 = {4, 5}\n",
    "subset = set2.issubset(set1)\n",
    "if subset:\n",
    "    print(\"set2 is a subset of set1\")\n",
    "else:\n",
    "    print(\"set2 is not a subset of set1\")"
   ]
  },
  {
   "cell_type": "code",
   "execution_count": 54,
   "id": "bf88581f-de48-456a-8e29-ecd0fe7e7753",
   "metadata": {},
   "outputs": [],
   "source": [
    "#49 0s and 1s in a set\n",
    "def create_set(n):\n",
    "    my_set = set()\n",
    "    for i in range(n):\n",
    "        if i % 2 == 0:\n",
    "            my_set.add(0)\n",
    "        else:\n",
    "            my_set.add(1)\n",
    "    return my_set"
   ]
  },
  {
   "cell_type": "code",
   "execution_count": 55,
   "id": "7b9bee3f-ec65-4855-ab0d-2144844a336e",
   "metadata": {},
   "outputs": [
    {
     "data": {
      "text/plain": [
       "{0, 1}"
      ]
     },
     "execution_count": 55,
     "metadata": {},
     "output_type": "execute_result"
    }
   ],
   "source": [
    "create_set(7)"
   ]
  },
  {
   "cell_type": "code",
   "execution_count": 56,
   "id": "9139e51c-7f08-4497-ab42-ba40cab0157f",
   "metadata": {},
   "outputs": [
    {
     "name": "stdout",
     "output_type": "stream",
     "text": [
      "Merged Set: {1, 2, 3, 4, 5, 6, 7}\n"
     ]
    }
   ],
   "source": [
    "#50 Merge sets\n",
    "set1 = {1, 2, 3}\n",
    "set2 = {3, 4, 5}\n",
    "set3 = {5, 6, 7}\n",
    "merged_set = set1.union(set2, set3)\n",
    "\n",
    "# Alternatively, you can use the | operator\n",
    "# merged_set = set1 | set2 | set3\n",
    "\n",
    "# Step 3: Print the merged se\n",
    "print(\"Merged Set:\", merged_set)"
   ]
  }
 ],
 "metadata": {
  "kernelspec": {
   "display_name": "Python 3 (ipykernel)",
   "language": "python",
   "name": "python3"
  },
  "language_info": {
   "codemirror_mode": {
    "name": "ipython",
    "version": 3
   },
   "file_extension": ".py",
   "mimetype": "text/x-python",
   "name": "python",
   "nbconvert_exporter": "python",
   "pygments_lexer": "ipython3",
   "version": "3.10.8"
  }
 },
 "nbformat": 4,
 "nbformat_minor": 5
}
